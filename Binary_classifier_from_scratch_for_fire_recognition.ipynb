{
  "nbformat": 4,
  "nbformat_minor": 0,
  "metadata": {
    "colab": {
      "name": "Binary_classifier_for_fire_recognition",
      "version": "0.3.2",
      "provenance": [],
      "collapsed_sections": [],
      "include_colab_link": true
    },
    "kernelspec": {
      "name": "python3",
      "display_name": "Python 3"
    },
    "accelerator": "GPU"
  },
  "cells": [
    {
      "cell_type": "markdown",
      "metadata": {
        "id": "view-in-github",
        "colab_type": "text"
      },
      "source": [
        "<a href=\"https://colab.research.google.com/github/tomek-l/fire/blob/master/Binary_classifier_from_scratch_for_fire_recognition.ipynb\" target=\"_parent\"><img src=\"https://colab.research.google.com/assets/colab-badge.svg\" alt=\"Open In Colab\"/></a>"
      ]
    },
    {
      "cell_type": "code",
      "metadata": {
        "id": "fHm3qk92jxEf",
        "colab_type": "code",
        "colab": {
          "base_uri": "https://localhost:8080/",
          "height": 34
        },
        "outputId": "32136944-aedf-4e23-fb8c-aa0ac025ca1c"
      },
      "source": [
        "import tensorflow as tf\n",
        "import tensorflow.keras as keras\n",
        "keras.__version__"
      ],
      "execution_count": 3,
      "outputs": [
        {
          "output_type": "execute_result",
          "data": {
            "text/plain": [
              "'2.2.4-tf'"
            ]
          },
          "metadata": {
            "tags": []
          },
          "execution_count": 3
        }
      ]
    },
    {
      "cell_type": "code",
      "metadata": {
        "id": "SPyQtsdnlfbf",
        "colab_type": "code",
        "colab": {
          "base_uri": "https://localhost:8080/",
          "height": 124
        },
        "outputId": "852817ce-652a-4ebf-a496-ef328268b0d0"
      },
      "source": [
        "from google.colab import drive\n",
        "import os\n",
        "drive.mount('/content/gdrive')\n",
        "IMAGE_DIR = '/content/gdrive/My Drive/FireVideo/dry_creek/'\n",
        "image_paths = [IMAGE_DIR+fname for fname in os.listdir(IMAGE_DIR)]\n",
        "\n"
      ],
      "execution_count": 1,
      "outputs": [
        {
          "output_type": "stream",
          "text": [
            "Go to this URL in a browser: https://accounts.google.com/o/oauth2/auth?client_id=947318989803-6bn6qk8qdgf4n4g3pfee6491hc0brc4i.apps.googleusercontent.com&redirect_uri=urn%3Aietf%3Awg%3Aoauth%3A2.0%3Aoob&scope=email%20https%3A%2F%2Fwww.googleapis.com%2Fauth%2Fdocs.test%20https%3A%2F%2Fwww.googleapis.com%2Fauth%2Fdrive%20https%3A%2F%2Fwww.googleapis.com%2Fauth%2Fdrive.photos.readonly%20https%3A%2F%2Fwww.googleapis.com%2Fauth%2Fpeopleapi.readonly&response_type=code\n",
            "\n",
            "Enter your authorization code:\n",
            "··········\n",
            "Mounted at /content/gdrive\n"
          ],
          "name": "stdout"
        }
      ]
    },
    {
      "cell_type": "markdown",
      "metadata": {
        "id": "k8rYrUcgiblt",
        "colab_type": "text"
      },
      "source": [
        "#Create and compile model"
      ]
    },
    {
      "cell_type": "code",
      "metadata": {
        "id": "B_bKLuKNrl_W",
        "colab_type": "code",
        "colab": {
          "base_uri": "https://localhost:8080/",
          "height": 159
        },
        "outputId": "a2d8d669-7b7e-442b-fbfd-cc63ed6377e6"
      },
      "source": [
        "from tensorflow.keras import layers\n",
        "from tensorflow.keras import models\n",
        "from tensorflow.keras import optimizers\n",
        "\n",
        "model = models.Sequential()\n",
        "model.add(layers.Conv2D(32, (3, 3), activation='relu', input_shape=(150, 150, 3)))\n",
        "model.add(layers.MaxPooling2D((2, 2)))\n",
        "model.add(layers.Conv2D(64, (3, 3), activation='relu'))\n",
        "model.add(layers.MaxPooling2D((2, 2)))\n",
        "model.add(layers.Conv2D(128, (3, 3), activation='relu'))\n",
        "model.add(layers.MaxPooling2D((2, 2)))\n",
        "model.add(layers.Conv2D(128, (3, 3), activation='relu'))\n",
        "model.add(layers.MaxPooling2D((2, 2)))\n",
        "model.add(layers.Flatten())\n",
        "model.add(layers.Dense(512, activation='relu'))\n",
        "model.add(layers.Dense(1, activation='sigmoid'))\n",
        "\n",
        "model.compile(loss='binary_crossentropy',\n",
        "              optimizer=optimizers.RMSprop(lr=1e-4),\n",
        "              metrics=['acc'])"
      ],
      "execution_count": 2,
      "outputs": [
        {
          "output_type": "stream",
          "text": [
            "WARNING: Logging before flag parsing goes to stderr.\n",
            "W0620 15:37:52.299566 140479816091520 deprecation.py:506] From /usr/local/lib/python3.6/dist-packages/tensorflow/python/ops/init_ops.py:1251: calling VarianceScaling.__init__ (from tensorflow.python.ops.init_ops) with dtype is deprecated and will be removed in a future version.\n",
            "Instructions for updating:\n",
            "Call initializer instance with the dtype argument instead of passing it to the constructor\n",
            "W0620 15:37:52.491667 140479816091520 deprecation.py:323] From /usr/local/lib/python3.6/dist-packages/tensorflow/python/ops/nn_impl.py:180: add_dispatch_support.<locals>.wrapper (from tensorflow.python.ops.array_ops) is deprecated and will be removed in a future version.\n",
            "Instructions for updating:\n",
            "Use tf.where in 2.0, which has the same broadcast rule as np.where\n"
          ],
          "name": "stderr"
        }
      ]
    },
    {
      "cell_type": "code",
      "metadata": {
        "id": "NUJGopMAsN9c",
        "colab_type": "code",
        "colab": {
          "base_uri": "https://localhost:8080/",
          "height": 52
        },
        "outputId": "3a3a58bb-d5f2-48e0-dbc0-c3b14949c6ca"
      },
      "source": [
        "from tensorflow.keras.preprocessing.image import ImageDataGenerator\n",
        "\n",
        "# All images will be rescaled by 1./255 (to 0-1 range)\n",
        "train_datagen = ImageDataGenerator(rescale=1./255)\n",
        "test_datagen = ImageDataGenerator(rescale=1./255)\n",
        "\n",
        "train_generator = train_datagen.flow_from_directory(\n",
        "        # This is the target directory\n",
        "        '/content/gdrive/My Drive/FireVideo/binary_dataset/train',\n",
        "        # All images will be resized to 150x150\n",
        "        target_size=(150, 150),\n",
        "        batch_size=16,\n",
        "        # Since we use binary_crossentropy loss, we need binary labels\n",
        "        class_mode='binary')\n",
        "\n",
        "validation_generator = test_datagen.flow_from_directory(\n",
        "        '/content/gdrive/My Drive/FireVideo/binary_dataset/validation',\n",
        "        target_size=(150, 150),\n",
        "        batch_size=16,\n",
        "        class_mode='binary')"
      ],
      "execution_count": 4,
      "outputs": [
        {
          "output_type": "stream",
          "text": [
            "Found 1826 images belonging to 2 classes.\n",
            "Found 191 images belonging to 2 classes.\n"
          ],
          "name": "stdout"
        }
      ]
    },
    {
      "cell_type": "code",
      "metadata": {
        "id": "9eV6M6KQzLHM",
        "colab_type": "code",
        "outputId": "d28d2617-44df-4634-ee8e-421540907e94",
        "colab": {
          "base_uri": "https://localhost:8080/",
          "height": 538
        }
      },
      "source": [
        "history = model.fit_generator(\n",
        "      train_generator,\n",
        "      steps_per_epoch=100,\n",
        "      epochs=15,\n",
        "      validation_data=validation_generator,\n",
        "      validation_steps=50)"
      ],
      "execution_count": 5,
      "outputs": [
        {
          "output_type": "stream",
          "text": [
            "Epoch 1/15\n",
            "100/100 [==============================] - 550s 6s/step - loss: 0.5026 - acc: 0.7377 - val_loss: 0.3468 - val_acc: 0.8756\n",
            "Epoch 2/15\n",
            "100/100 [==============================] - 71s 706ms/step - loss: 0.3742 - acc: 0.8381 - val_loss: 0.2986 - val_acc: 0.8530\n",
            "Epoch 3/15\n",
            "100/100 [==============================] - 52s 523ms/step - loss: 0.3421 - acc: 0.8493 - val_loss: 0.2752 - val_acc: 0.8807\n",
            "Epoch 4/15\n",
            "100/100 [==============================] - 52s 525ms/step - loss: 0.3149 - acc: 0.8651 - val_loss: 0.2623 - val_acc: 0.8907\n",
            "Epoch 5/15\n",
            "100/100 [==============================] - 51s 515ms/step - loss: 0.2637 - acc: 0.8887 - val_loss: 0.2585 - val_acc: 0.9070\n",
            "Epoch 6/15\n",
            "100/100 [==============================] - 52s 519ms/step - loss: 0.2570 - acc: 0.8997 - val_loss: 0.2689 - val_acc: 0.9058\n",
            "Epoch 7/15\n",
            "100/100 [==============================] - 52s 517ms/step - loss: 0.2550 - acc: 0.8953 - val_loss: 0.3921 - val_acc: 0.8279\n",
            "Epoch 8/15\n",
            "100/100 [==============================] - 51s 510ms/step - loss: 0.2206 - acc: 0.9119 - val_loss: 0.2363 - val_acc: 0.9146\n",
            "Epoch 9/15\n",
            "100/100 [==============================] - 54s 537ms/step - loss: 0.2075 - acc: 0.9224 - val_loss: 0.2387 - val_acc: 0.9158\n",
            "Epoch 10/15\n",
            "100/100 [==============================] - 52s 520ms/step - loss: 0.2124 - acc: 0.9262 - val_loss: 0.2159 - val_acc: 0.9259\n",
            "Epoch 11/15\n",
            "100/100 [==============================] - 52s 517ms/step - loss: 0.1952 - acc: 0.9275 - val_loss: 0.2775 - val_acc: 0.9045\n",
            "Epoch 12/15\n",
            "100/100 [==============================] - 51s 514ms/step - loss: 0.1660 - acc: 0.9363 - val_loss: 0.2527 - val_acc: 0.9121\n",
            "Epoch 13/15\n",
            "100/100 [==============================] - 52s 518ms/step - loss: 0.1769 - acc: 0.9338 - val_loss: 0.2449 - val_acc: 0.9246\n",
            "Epoch 14/15\n",
            "100/100 [==============================] - 53s 525ms/step - loss: 0.1654 - acc: 0.9407 - val_loss: 0.2226 - val_acc: 0.9359\n",
            "Epoch 15/15\n",
            "100/100 [==============================] - 52s 518ms/step - loss: 0.1432 - acc: 0.9496 - val_loss: 0.2164 - val_acc: 0.9397\n"
          ],
          "name": "stdout"
        }
      ]
    },
    {
      "cell_type": "code",
      "metadata": {
        "id": "BsCqKorqXf69",
        "colab_type": "code",
        "colab": {
          "base_uri": "https://localhost:8080/",
          "height": 545
        },
        "outputId": "d3f691d3-e4a7-458c-e4f5-8b521c575574"
      },
      "source": [
        "import matplotlib.pyplot as plt\n",
        "\n",
        "acc = history.history['acc']\n",
        "val_acc = history.history['val_acc']\n",
        "loss = history.history['loss']\n",
        "val_loss = history.history['val_loss']\n",
        "\n",
        "epochs = range(len(acc))\n",
        "\n",
        "plt.plot(epochs, acc, 'bo', label='Training acc')\n",
        "plt.plot(epochs, val_acc, 'b', label='Validation acc')\n",
        "plt.title('Training and validation accuracy')\n",
        "plt.legend()\n",
        "\n",
        "plt.figure()\n",
        "\n",
        "plt.plot(epochs, loss, 'bo', label='Training loss')\n",
        "plt.plot(epochs, val_loss, 'b', label='Validation loss')\n",
        "plt.title('Training and validation loss')\n",
        "plt.legend()\n",
        "\n",
        "plt.show()"
      ],
      "execution_count": 6,
      "outputs": [
        {
          "output_type": "display_data",
          "data": {
            "image/png": "[encoded data removed]",
            "text/plain": [
              "<Figure size 432x288 with 1 Axes>"
            ]
          },
          "metadata": {
            "tags": []
          }
        },
        {
          "output_type": "display_data",
          "data": {
            "image/png": "[encoded data removed]",
            "text/plain": [
              "<Figure size 432x288 with 1 Axes>"
            ]
          },
          "metadata": {
            "tags": []
          }
        }
      ]
    },
    {
      "cell_type": "markdown",
      "metadata": {
        "id": "yHjBkbQNXl3J",
        "colab_type": "text"
      },
      "source": [
        "### We can see that around 10th epoch the models starts to overfit"
      ]
    },
    {
      "cell_type": "markdown",
      "metadata": {
        "id": "dH5rs83vYqJG",
        "colab_type": "text"
      },
      "source": [
        "# Now let's try with data augumentation"
      ]
    },
    {
      "cell_type": "code",
      "metadata": {
        "id": "EVPEe4jdX0z0",
        "colab_type": "code",
        "colab": {
          "base_uri": "https://localhost:8080/",
          "height": 52
        },
        "outputId": "ab6cb652-8cb0-4663-86f3-652fef96f260"
      },
      "source": [
        "augumented_train_datagen = ImageDataGenerator(\n",
        "    rescale=1./255,\n",
        "    rotation_range=40,\n",
        "    width_shift_range=0.2,\n",
        "    height_shift_range=0.2,\n",
        "    shear_range=0.2,\n",
        "    zoom_range=0.2,\n",
        "    horizontal_flip=True,)\n",
        "\n",
        "validation_generator = test_datagen.flow_from_directory(\n",
        "        directory = '/content/gdrive/My Drive/FireVideo/binary_dataset/validation',\n",
        "        target_size=(150, 150),\n",
        "        batch_size=16,\n",
        "        class_mode='binary')\n",
        "\n",
        "\n",
        "aug_train_generator = augumented_train_datagen.flow_from_directory(\n",
        "        # This is the target directory\n",
        "        '/content/gdrive/My Drive/FireVideo/binary_dataset/train',\n",
        "        # All images will be resized to 150x150\n",
        "        target_size=(150, 150),\n",
        "        batch_size=16,\n",
        "        # Since we use binary_crossentropy loss, we need binary labels\n",
        "        class_mode='binary')"
      ],
      "execution_count": 14,
      "outputs": [
        {
          "output_type": "stream",
          "text": [
            "Found 191 images belonging to 2 classes.\n",
            "Found 1826 images belonging to 2 classes.\n"
          ],
          "name": "stdout"
        }
      ]
    },
    {
      "cell_type": "code",
      "metadata": {
        "id": "VLsddO5yYe3V",
        "colab_type": "code",
        "colab": {}
      },
      "source": [
        "model = models.Sequential()\n",
        "model.add(layers.Conv2D(32, (3, 3), activation='relu',\n",
        "                        input_shape=(150, 150, 3)))\n",
        "model.add(layers.MaxPooling2D((2, 2)))\n",
        "model.add(layers.Conv2D(64, (3, 3), activation='relu'))\n",
        "model.add(layers.MaxPooling2D((2, 2)))\n",
        "model.add(layers.Conv2D(128, (3, 3), activation='relu'))\n",
        "model.add(layers.MaxPooling2D((2, 2)))\n",
        "model.add(layers.Conv2D(128, (3, 3), activation='relu'))\n",
        "model.add(layers.MaxPooling2D((2, 2)))\n",
        "model.add(layers.Flatten())\n",
        "model.add(layers.Dropout(0.5))\n",
        "model.add(layers.Dense(512, activation='relu'))\n",
        "model.add(layers.Dense(1, activation='sigmoid'))\n",
        "\n",
        "model.compile(loss='binary_crossentropy',\n",
        "              optimizer=optimizers.RMSprop(lr=1e-4),\n",
        "              metrics=['acc'])"
      ],
      "execution_count": 0,
      "outputs": []
    },
    {
      "cell_type": "code",
      "metadata": {
        "id": "MoJxf5fYY0FB",
        "colab_type": "code",
        "colab": {
          "base_uri": "https://localhost:8080/",
          "height": 885
        },
        "outputId": "303a4cba-60a7-4206-df6d-f3240982c5e6"
      },
      "source": [
        "history = model.fit_generator(\n",
        "      aug_train_generator,\n",
        "      steps_per_epoch=100,\n",
        "      epochs=25,\n",
        "      validation_data=validation_generator,\n",
        "      validation_steps=50)\n",
        "\n",
        "model.save('binary_model_augumented_50epochs.h5')"
      ],
      "execution_count": 16,
      "outputs": [
        {
          "output_type": "stream",
          "text": [
            "Epoch 1/25\n",
            "100/100 [==============================] - 123s 1s/step - loss: 0.5691 - acc: 0.6920 - val_loss: 0.4521 - val_acc: 0.7469\n",
            "Epoch 2/25\n",
            "100/100 [==============================] - 113s 1s/step - loss: 0.4442 - acc: 0.7902 - val_loss: 0.3025 - val_acc: 0.8794\n",
            "Epoch 3/25\n",
            "100/100 [==============================] - 112s 1s/step - loss: 0.3697 - acc: 0.8322 - val_loss: 0.2779 - val_acc: 0.8631\n",
            "Epoch 4/25\n",
            "100/100 [==============================] - 111s 1s/step - loss: 0.3695 - acc: 0.8363 - val_loss: 0.3168 - val_acc: 0.8794\n",
            "Epoch 5/25\n",
            "100/100 [==============================] - 116s 1s/step - loss: 0.3590 - acc: 0.8385 - val_loss: 0.2608 - val_acc: 0.8957\n",
            "Epoch 6/25\n",
            "100/100 [==============================] - 114s 1s/step - loss: 0.3444 - acc: 0.8510 - val_loss: 0.2548 - val_acc: 0.8926\n",
            "Epoch 7/25\n",
            "100/100 [==============================] - 117s 1s/step - loss: 0.3312 - acc: 0.8486 - val_loss: 0.2381 - val_acc: 0.9008\n",
            "Epoch 8/25\n",
            "100/100 [==============================] - 115s 1s/step - loss: 0.3150 - acc: 0.8596 - val_loss: 0.3206 - val_acc: 0.8719\n",
            "Epoch 9/25\n",
            "100/100 [==============================] - 115s 1s/step - loss: 0.3152 - acc: 0.8675 - val_loss: 0.2345 - val_acc: 0.9221\n",
            "Epoch 10/25\n",
            "100/100 [==============================] - 115s 1s/step - loss: 0.3098 - acc: 0.8675 - val_loss: 0.2777 - val_acc: 0.9052\n",
            "Epoch 11/25\n",
            "100/100 [==============================] - 110s 1s/step - loss: 0.2887 - acc: 0.8777 - val_loss: 0.2117 - val_acc: 0.9328\n",
            "Epoch 12/25\n",
            "100/100 [==============================] - 123s 1s/step - loss: 0.2768 - acc: 0.8834 - val_loss: 0.2177 - val_acc: 0.9359\n",
            "Epoch 13/25\n",
            "100/100 [==============================] - 116s 1s/step - loss: 0.2709 - acc: 0.8839 - val_loss: 0.2043 - val_acc: 0.9240\n",
            "Epoch 14/25\n",
            "100/100 [==============================] - 116s 1s/step - loss: 0.2665 - acc: 0.8927 - val_loss: 0.2136 - val_acc: 0.9322\n",
            "Epoch 15/25\n",
            "100/100 [==============================] - 113s 1s/step - loss: 0.2730 - acc: 0.8822 - val_loss: 0.1827 - val_acc: 0.9391\n",
            "Epoch 16/25\n",
            "100/100 [==============================] - 116s 1s/step - loss: 0.2518 - acc: 0.8952 - val_loss: 0.1938 - val_acc: 0.9309\n",
            "Epoch 17/25\n",
            "100/100 [==============================] - 116s 1s/step - loss: 0.2528 - acc: 0.8978 - val_loss: 0.1801 - val_acc: 0.9366\n",
            "Epoch 18/25\n",
            "100/100 [==============================] - 115s 1s/step - loss: 0.2520 - acc: 0.9000 - val_loss: 0.2212 - val_acc: 0.9353\n",
            "Epoch 19/25\n",
            "100/100 [==============================] - 116s 1s/step - loss: 0.2520 - acc: 0.8971 - val_loss: 0.1990 - val_acc: 0.9334\n",
            "Epoch 20/25\n",
            "100/100 [==============================] - 117s 1s/step - loss: 0.2380 - acc: 0.9028 - val_loss: 0.1693 - val_acc: 0.9485\n",
            "Epoch 21/25\n",
            "100/100 [==============================] - 117s 1s/step - loss: 0.2334 - acc: 0.9102 - val_loss: 0.1941 - val_acc: 0.9334\n",
            "Epoch 22/25\n",
            "100/100 [==============================] - 113s 1s/step - loss: 0.2292 - acc: 0.9102 - val_loss: 0.1742 - val_acc: 0.9479\n",
            "Epoch 23/25\n",
            "100/100 [==============================] - 124s 1s/step - loss: 0.2362 - acc: 0.9098 - val_loss: 0.1809 - val_acc: 0.9378\n",
            "Epoch 24/25\n",
            "100/100 [==============================] - 209s 2s/step - loss: 0.2330 - acc: 0.9138 - val_loss: 0.2441 - val_acc: 0.9165\n",
            "Epoch 25/25\n",
            "100/100 [==============================] - 209s 2s/step - loss: 0.2275 - acc: 0.9117 - val_loss: 0.1647 - val_acc: 0.9541\n"
          ],
          "name": "stdout"
        }
      ]
    },
    {
      "cell_type": "code",
      "metadata": {
        "id": "36peP3zGDK6o",
        "colab_type": "code",
        "colab": {
          "base_uri": "https://localhost:8080/",
          "height": 545
        },
        "outputId": "12b905c3-5073-44fb-96f6-75a6e89a7c0e"
      },
      "source": [
        "acc = history.history['acc']\n",
        "val_acc = history.history['val_acc']\n",
        "loss = history.history['loss']\n",
        "val_loss = history.history['val_loss']\n",
        "\n",
        "epochs = range(len(acc))\n",
        "\n",
        "plt.plot(epochs, acc, 'bo', label='Training acc')\n",
        "plt.plot(epochs, val_acc, 'b', label='Validation acc')\n",
        "plt.title('Training and validation accuracy')\n",
        "plt.legend()\n",
        "\n",
        "plt.figure()\n",
        "\n",
        "plt.plot(epochs, loss, 'bo', label='Training loss')\n",
        "plt.plot(epochs, val_loss, 'b', label='Validation loss')\n",
        "plt.title('Training and validation loss')\n",
        "plt.legend()\n",
        "\n",
        "plt.show()"
      ],
      "execution_count": 17,
      "outputs": [
        {
          "output_type": "display_data",
          "data": {
            "image/png": "[encoded data removed]",
            "text/plain": [
              "<Figure size 432x288 with 1 Axes>"
            ]
          },
          "metadata": {
            "tags": []
          }
        },
        {
          "output_type": "display_data",
          "data": {
            "image/png": "[encoded data removed]",
            "text/plain": [
              "<Figure size 432x288 with 1 Axes>"
            ]
          },
          "metadata": {
            "tags": []
          }
        }
      ]
    },
    {
      "cell_type": "markdown",
      "metadata": {
        "id": "5BVNWkEqEx2d",
        "colab_type": "text"
      },
      "source": [
        "That's super odd... The validation accuracy is greater than training set accuracy."
      ]
    },
    {
      "cell_type": "code",
      "metadata": {
        "id": "j5tU9iD3E-IB",
        "colab_type": "code",
        "colab": {}
      },
      "source": [
        "model.save('/content/gdrive/My Drive/FireVideo/binary_classifier_from_scratch_25epochs.h5')"
      ],
      "execution_count": 0,
      "outputs": []
    }
  ]
}