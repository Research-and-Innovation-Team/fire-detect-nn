{
 "cells": [
  {
   "cell_type": "code",
   "execution_count": 1,
   "metadata": {},
   "outputs": [],
   "source": [
    "import torch\n",
    "import torchvision\n",
    "import torchvision.models as models"
   ]
  },
  {
   "cell_type": "code",
   "execution_count": 10,
   "metadata": {},
   "outputs": [],
   "source": [
    "class FireClassifierCAM(torch.nn.Module):\n",
    "    def __init__(self, imagenet_init=True):\n",
    "        super(FireClassifierCAM, self).__init__()\n",
    "\n",
    "        self.backbone = models.densenet121(pretrained=imagenet_init).features\n",
    "        self.g_avg_pool = torch.nn.AvgPool2d(kernel_size=7, stride=1)\n",
    "        self.classifier = torch.nn.Linear(in_features=1024, out_features=1, bias=True)\n",
    "        self.sigmoid = torch.nn.Sigmoid() \n",
    "        self._gradients = None\n",
    "        \n",
    "    def _activations_hook(self, grad):\n",
    "        self._gradients = grad\n",
    "\n",
    "    def forward(self, x):\n",
    "        x = self.backbone(x) # conv. activations\n",
    "        \n",
    "        # keep gradients after last layer of the backbone\n",
    "        if self.train and x.requires_grad:\n",
    "            _ = x.register_hook(self._activations_hook)\n",
    "        \n",
    "        x = self.g_avg_pool(x)\n",
    "        x = x.squeeze()\n",
    "        x = self.classifier(x)\n",
    "        \n",
    "        x = self.sigmoid(x) #score (0-1)\n",
    "        self._score = x # safe score tensor for backprop during gradCAM\n",
    "\n",
    "        return x\n",
    "    \n",
    "    @property\n",
    "    def gradients(self):\n",
    "        # has to be called after output.backward()\n",
    "        return self._gradients\n",
    "    \n",
    "    def activations(self, inputbatch):\n",
    "        return self.backbone(inputbatch)\n",
    "    \n",
    "    def gradCAM(self, img_tensor):\n",
    "        inputb = img_tensor.unsqueeze(dim=0)\n",
    "        score = self(inputb)\n",
    "        self._score.backward()\n",
    "        \n",
    "        pooled_gradients = torch.mean(self._gradients, dim=[0, 2, 3])\n",
    "        activations = self.activations(inputb).detach()\n",
    "\n",
    "        for i in range(1024):\n",
    "            activations[:, i, :, :] *= pooled_gradients[i]\n",
    "\n",
    "        heatmap = torch.mean(activations, dim=1).squeeze()\n",
    "        heatmap = heatmap.cpu().numpy()\n",
    "        \n",
    "        return heatmap"
   ]
  },
  {
   "cell_type": "code",
   "execution_count": 12,
   "metadata": {},
   "outputs": [],
   "source": [
    "model = FireClassifierCAM()\n",
    "model = model.to('cuda:0')\n",
    "inputb = torch.ones((4,3,224,224)).to('cuda:0')\n",
    "scores = model(inputb)"
   ]
  },
  {
   "cell_type": "code",
   "execution_count": 16,
   "metadata": {},
   "outputs": [],
   "source": [
    "image_t = torch.ones((3,224,224)).to('cuda:0')\n",
    "heatmap = model.gradCAM(image_t)"
   ]
  },
  {
   "cell_type": "code",
   "execution_count": 19,
   "metadata": {},
   "outputs": [
    {
     "data": {
      "text/plain": [
       "<matplotlib.image.AxesImage at 0x7fbf6f262400>"
      ]
     },
     "execution_count": 19,
     "metadata": {},
     "output_type": "execute_result"
    },
    {
     "data": {
      "image/png": "[encoded data removed]",
      "text/plain": [
       "<Figure size 288x288 with 1 Axes>"
      ]
     },
     "metadata": {
      "needs_background": "light"
     },
     "output_type": "display_data"
    }
   ],
   "source": [
    "import matplotlib.pyplot as plt \n",
    "plt.matshow(heatmap)"
   ]
  }
 ],
 "metadata": {
  "kernelspec": {
   "display_name": "Python 3",
   "language": "python",
   "name": "python3"
  },
  "language_info": {
   "codemirror_mode": {
    "name": "ipython",
    "version": 3
   },
   "file_extension": ".py",
   "mimetype": "text/x-python",
   "name": "python",
   "nbconvert_exporter": "python",
   "pygments_lexer": "ipython3",
   "version": "3.8.5"
  }
 },
 "nbformat": 4,
 "nbformat_minor": 4
}
