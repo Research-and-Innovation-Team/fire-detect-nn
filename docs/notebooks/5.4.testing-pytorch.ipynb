{
 "cells": [
  {
   "cell_type": "code",
   "execution_count": 1,
   "metadata": {},
   "outputs": [],
   "source": [
    "import sys \n",
    "import numpy as np\n",
    "import torch\n",
    "import torchvision\n",
    "\n",
    "sys.path.append('../firedetect')\n",
    "from dataset import load_dataset"
   ]
  },
  {
   "cell_type": "code",
   "execution_count": 7,
   "metadata": {},
   "outputs": [],
   "source": [
    "model = torch.load('../weights/resnet18-epoch-1-valid_acc=0.9809-test_acc=0.9436.pt')\n",
    "\n",
    "\n",
    "dataset_paths = {'mine': '../data/fire_aerial2k_dataset/',\n",
    "                 'dunnings': '../data/fire-dataset-dunnings/images-224x224/train/',\n",
    "                 'dunnings_test': '../data/fire-dataset-dunnings/images-224x224/test/',\n",
    "                 'furg_test': '../data/fire-dataset-dunnings/images-224x224/test_furg/'}"
   ]
  },
  {
   "cell_type": "code",
   "execution_count": 3,
   "metadata": {},
   "outputs": [],
   "source": [
    "def accuracy_gpu(pred, truth):\n",
    "    agreeing = pred.eq(truth)\n",
    "    acc = agreeing.sum().double()/agreeing.numel()\n",
    "    return float(acc)"
   ]
  },
  {
   "cell_type": "code",
   "execution_count": 8,
   "metadata": {},
   "outputs": [
    {
     "name": "stderr",
     "output_type": "stream",
     "text": [
      "/home/tomek/anaconda3/envs/fire-detect/lib/python3.7/site-packages/ipykernel_launcher.py:33: UserWarning: To copy construct from a tensor, it is recommended to use sourceTensor.clone().detach() or sourceTensor.clone().detach().requires_grad_(True), rather than torch.tensor(sourceTensor).\n"
     ]
    }
   ],
   "source": [
    "import torch\n",
    "import torchvision\n",
    "\n",
    "tr = torchvision.transforms.Compose([torchvision.transforms.Resize((224,224)),\n",
    "                            torchvision.transforms.ToTensor()])\n",
    "\n",
    "test_dataset = torchvision.datasets.ImageFolder(root=dataset_paths['furg_test'],\n",
    "                                                transform=tr)\n",
    "\n",
    "# test_dataset.class_to_idx = {'fire': 1, 'nofire': 0} # for dunnings\n",
    "\n",
    "test_loader = torch.utils.data.DataLoader(\n",
    "    test_dataset,\n",
    "    batch_size=16,\n",
    "    num_workers=0,\n",
    "    shuffle=True\n",
    ")\n",
    "\n",
    "device = torch.device(\"cuda:0\")\n",
    "test_acc = []\n",
    "\n",
    "s_list = [] # score list\n",
    "l_list = [] # label list\n",
    "\n",
    "model.eval() # evaluation mode (changes behavior of dropout and batchnorm)\n",
    "\n",
    "with torch.no_grad():\n",
    "    model = model.to(device)\n",
    "\n",
    "    for i, data in enumerate(test_loader):\n",
    "         print(f'testing batch {i}/{len(test_loader)}')\n",
    "        inputs = data[0].to(device)\n",
    "        labels = torch.tensor(data[1], dtype=torch.bool).to(device)\n",
    "\n",
    "        scores = model(inputs).squeeze()\n",
    "        \n",
    "        s_list += list(scores.to('cpu').numpy())\n",
    "        l_list += list(labels.to('cpu').numpy())\n",
    "#         pred = scores > 0.5\n",
    "\n",
    "#         a = accuracy_gpu(pred, labels)\n",
    "#         test_acc.append(a)\n",
    "\n",
    "\n",
    "scores = np.array(s_list)\n",
    "truth = np.array(l_list)"
   ]
  },
  {
   "cell_type": "markdown",
   "metadata": {},
   "source": [
    "# Let's plot ROC curve"
   ]
  },
  {
   "cell_type": "code",
   "execution_count": 11,
   "metadata": {},
   "outputs": [],
   "source": [
    "import sklearn.metrics \n",
    "fpr, tpr, thresholds = sklearn.metrics.roc_curve(truth, scores)"
   ]
  },
  {
   "cell_type": "code",
   "execution_count": 12,
   "metadata": {},
   "outputs": [
    {
     "name": "stderr",
     "output_type": "stream",
     "text": [
      "No handles with labels found to put in legend.\n"
     ]
    },
    {
     "data": {
      "image/png": "[encoded data removed]",
      "text/plain": [
       "<Figure size 432x288 with 1 Axes>"
      ]
     },
     "metadata": {
      "needs_background": "light"
     },
     "output_type": "display_data"
    }
   ],
   "source": [
    "import matplotlib.pyplot as plt\n",
    "\n",
    "plt.plot(fpr,tpr)\n",
    "plt.xlabel('False Positive Rate')\n",
    "plt.ylabel('True Positive Rate')\n",
    "plt.title('ROC curve')\n",
    "plt.legend(loc=\"lower right\")\n",
    "plt.show()"
   ]
  },
  {
   "cell_type": "markdown",
   "metadata": {},
   "source": [
    "# Let's find maximal accuracy"
   ]
  },
  {
   "cell_type": "code",
   "execution_count": 13,
   "metadata": {},
   "outputs": [],
   "source": [
    "accs = []\n",
    "for t in thresholds:\n",
    "    pred = scores > t\n",
    "    a = sklearn.metrics.accuracy_score(truth, pred)\n",
    "    accs.append(a)"
   ]
  },
  {
   "cell_type": "code",
   "execution_count": 14,
   "metadata": {},
   "outputs": [
    {
     "data": {
      "text/plain": [
       "0.77087384"
      ]
     },
     "execution_count": 14,
     "metadata": {},
     "output_type": "execute_result"
    }
   ],
   "source": [
    "thresholds[np.array(accs).argmax()]"
   ]
  },
  {
   "cell_type": "code",
   "execution_count": 16,
   "metadata": {},
   "outputs": [],
   "source": [
    "pred = scores > 0.625\n",
    "precision, recall, fscore, _ = sklearn.metrics.precision_recall_fscore_support(truth, pred, average='binary')"
   ]
  },
  {
   "cell_type": "code",
   "execution_count": 17,
   "metadata": {},
   "outputs": [
    {
     "data": {
      "text/plain": [
       "0.9964058612109483"
      ]
     },
     "execution_count": 17,
     "metadata": {},
     "output_type": "execute_result"
    }
   ],
   "source": [
    "recall"
   ]
  },
  {
   "cell_type": "code",
   "execution_count": 18,
   "metadata": {},
   "outputs": [
    {
     "data": {
      "text/plain": [
       "0.986046511627907"
      ]
     },
     "execution_count": 18,
     "metadata": {},
     "output_type": "execute_result"
    }
   ],
   "source": [
    "precision"
   ]
  },
  {
   "cell_type": "code",
   "execution_count": 19,
   "metadata": {},
   "outputs": [
    {
     "data": {
      "text/plain": [
       "0.9911991199119914"
      ]
     },
     "execution_count": 19,
     "metadata": {},
     "output_type": "execute_result"
    }
   ],
   "source": [
    "fscore"
   ]
  }
 ],
 "metadata": {
  "accelerator": "GPU",
  "colab": {
   "collapsed_sections": [],
   "include_colab_link": true,
   "name": "train-pytorch",
   "provenance": []
  },
  "kernelspec": {
   "display_name": "255-fire-detect",
   "language": "python",
   "name": "255-fire-detect"
  },
  "language_info": {
   "codemirror_mode": {
    "name": "ipython",
    "version": 3
   },
   "file_extension": ".py",
   "mimetype": "text/x-python",
   "name": "python",
   "nbconvert_exporter": "python",
   "pygments_lexer": "ipython3",
   "version": "3.7.6"
  }
 },
 "nbformat": 4,
 "nbformat_minor": 1
}
