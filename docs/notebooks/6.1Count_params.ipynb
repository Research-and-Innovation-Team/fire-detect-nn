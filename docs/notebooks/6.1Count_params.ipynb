{
 "cells": [
  {
   "cell_type": "code",
   "execution_count": 1,
   "metadata": {},
   "outputs": [],
   "source": [
    "import sys\n",
    "sys.path.append('../..')"
   ]
  },
  {
   "cell_type": "code",
   "execution_count": 2,
   "metadata": {},
   "outputs": [],
   "source": [
    "import torch\n",
    "from models import FireClassifier, BACKBONES"
   ]
  },
  {
   "cell_type": "code",
   "execution_count": 3,
   "metadata": {},
   "outputs": [
    {
     "name": "stdout",
     "output_type": "stream",
     "text": [
      "resnet18: 11.18M params\n",
      "resnet34: 21.29M params\n",
      "resnet50: 23.51M params\n",
      "resnet101: 42.50M params\n",
      "densenet121: 6.95M params\n",
      "VGG16: 134.26M params\n",
      "mobilenet: 2.23M params\n"
     ]
    }
   ],
   "source": [
    "device = torch.device('cuda' if torch.cuda.is_available() else 'cpu')\n",
    "for b in BACKBONES:\n",
    "    model = FireClassifier(backbone=b)\n",
    "    model = model.to(device)\n",
    "    n_params = sum(p.numel() for p in model.parameters()) \n",
    "    print(f\"{b}: {n_params/1e6:.2f}M params\")"
   ]
  }
 ],
 "metadata": {
  "kernelspec": {
   "display_name": "Python 3",
   "language": "python",
   "name": "python3"
  },
  "language_info": {
   "codemirror_mode": {
    "name": "ipython",
    "version": 3
   },
   "file_extension": ".py",
   "mimetype": "text/x-python",
   "name": "python",
   "nbconvert_exporter": "python",
   "pygments_lexer": "ipython3",
   "version": "3.8.5"
  }
 },
 "nbformat": 4,
 "nbformat_minor": 4
}
