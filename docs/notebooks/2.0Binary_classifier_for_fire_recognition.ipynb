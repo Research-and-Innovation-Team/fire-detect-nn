{
  "nbformat": 4,
  "nbformat_minor": 0,
  "metadata": {
    "colab": {
      "name": "Binary_classifier_for_fire_recognition",
      "version": "0.3.2",
      "provenance": [],
      "collapsed_sections": [],
      "include_colab_link": true
    },
    "kernelspec": {
      "name": "python3",
      "display_name": "Python 3"
    },
    "accelerator": "GPU"
  },
  "cells": [
    {
      "cell_type": "markdown",
      "metadata": {
        "id": "view-in-github",
        "colab_type": "text"
      },
      "source": [
        "<a href=\"https://colab.research.google.com/github/tomek-l/fire/blob/master/Binary_classifier_for_fire_recognition.ipynb\" target=\"_parent\"><img src=\"https://colab.research.google.com/assets/colab-badge.svg\" alt=\"Open In Colab\"/></a>"
      ]
    },
    {
      "cell_type": "markdown",
      "metadata": {
        "id": "jEy_w1USRdHa",
        "colab_type": "text"
      },
      "source": [
        "# Augumentation vs no augumentation\n",
        "We will try training a binary classifier with and without data augumentation. Thus, we'll test the hypothesis that data augumentation prevents/delays overfitting."
      ]
    },
    {
      "cell_type": "code",
      "metadata": {
        "id": "fHm3qk92jxEf",
        "colab_type": "code",
        "colab": {
          "base_uri": "https://localhost:8080/",
          "height": 34
        },
        "outputId": "36d4e9f0-d875-43c5-d6bf-72ba683eff57"
      },
      "source": [
        "import tensorflow as tf\n",
        "import tensorflow.keras as keras\n",
        "keras.__version__"
      ],
      "execution_count": 1,
      "outputs": [
        {
          "output_type": "execute_result",
          "data": {
            "text/plain": [
              "'2.2.4-tf'"
            ]
          },
          "metadata": {
            "tags": []
          },
          "execution_count": 1
        }
      ]
    },
    {
      "cell_type": "code",
      "metadata": {
        "id": "SPyQtsdnlfbf",
        "colab_type": "code",
        "colab": {
          "base_uri": "https://localhost:8080/",
          "height": 34
        },
        "outputId": "8ed42107-807d-463e-f336-113bd05e6371"
      },
      "source": [
        "from google.colab import drive\n",
        "import os\n",
        "drive.mount('/content/gdrive')\n",
        "IMAGE_DIR = '/content/gdrive/My Drive/FireVideo/dry_creek/'\n",
        "image_paths = [IMAGE_DIR+fname for fname in os.listdir(IMAGE_DIR)]\n",
        "\n"
      ],
      "execution_count": 2,
      "outputs": [
        {
          "output_type": "stream",
          "text": [
            "Drive already mounted at /content/gdrive; to attempt to forcibly remount, call drive.mount(\"/content/gdrive\", force_remount=True).\n"
          ],
          "name": "stdout"
        }
      ]
    },
    {
      "cell_type": "markdown",
      "metadata": {
        "id": "k8rYrUcgiblt",
        "colab_type": "text"
      },
      "source": [
        "#Create and compile model"
      ]
    },
    {
      "cell_type": "code",
      "metadata": {
        "id": "B_bKLuKNrl_W",
        "colab_type": "code",
        "colab": {
          "base_uri": "https://localhost:8080/",
          "height": 159
        },
        "outputId": "a67c3e9a-cc4c-4fc4-c769-3b4a303ef178"
      },
      "source": [
        "from tensorflow.keras import layers\n",
        "from tensorflow.keras import models\n",
        "from tensorflow.keras import optimizers\n",
        "\n",
        "model = models.Sequential()\n",
        "model.add(layers.Conv2D(32, (3, 3), activation='relu', input_shape=(150, 150, 3)))\n",
        "model.add(layers.MaxPooling2D((2, 2)))\n",
        "model.add(layers.Conv2D(64, (3, 3), activation='relu'))\n",
        "model.add(layers.MaxPooling2D((2, 2)))\n",
        "model.add(layers.Conv2D(128, (3, 3), activation='relu'))\n",
        "model.add(layers.MaxPooling2D((2, 2)))\n",
        "model.add(layers.Conv2D(128, (3, 3), activation='relu'))\n",
        "model.add(layers.MaxPooling2D((2, 2)))\n",
        "model.add(layers.Flatten())\n",
        "model.add(layers.Dense(512, activation='relu'))\n",
        "model.add(layers.Dense(1, activation='sigmoid'))\n",
        "\n",
        "model.compile(loss='binary_crossentropy',\n",
        "              optimizer=optimizers.RMSprop(lr=1e-4),\n",
        "              metrics=['acc'])"
      ],
      "execution_count": 3,
      "outputs": [
        {
          "output_type": "stream",
          "text": [
            "WARNING: Logging before flag parsing goes to stderr.\n",
            "W0620 18:13:38.079023 140694909851520 deprecation.py:506] From /usr/local/lib/python3.6/dist-packages/tensorflow/python/ops/init_ops.py:1251: calling VarianceScaling.__init__ (from tensorflow.python.ops.init_ops) with dtype is deprecated and will be removed in a future version.\n",
            "Instructions for updating:\n",
            "Call initializer instance with the dtype argument instead of passing it to the constructor\n",
            "W0620 18:13:38.280523 140694909851520 deprecation.py:323] From /usr/local/lib/python3.6/dist-packages/tensorflow/python/ops/nn_impl.py:180: add_dispatch_support.<locals>.wrapper (from tensorflow.python.ops.array_ops) is deprecated and will be removed in a future version.\n",
            "Instructions for updating:\n",
            "Use tf.where in 2.0, which has the same broadcast rule as np.where\n"
          ],
          "name": "stderr"
        }
      ]
    },
    {
      "cell_type": "code",
      "metadata": {
        "id": "NUJGopMAsN9c",
        "colab_type": "code",
        "colab": {
          "base_uri": "https://localhost:8080/",
          "height": 52
        },
        "outputId": "6bf83fff-94e9-4dba-fb34-2850ed28b7a9"
      },
      "source": [
        "from tensorflow.keras.preprocessing.image import ImageDataGenerator\n",
        "\n",
        "# All images will be rescaled by 1./255 (to 0-1 range)\n",
        "train_datagen = ImageDataGenerator(rescale=1./255)\n",
        "test_datagen = ImageDataGenerator(rescale=1./255)\n",
        "\n",
        "train_generator = train_datagen.flow_from_directory(\n",
        "        # This is the target directory\n",
        "        '/content/gdrive/My Drive/FireVideo/binary_dataset/train',\n",
        "        # All images will be resized to 150x150\n",
        "        target_size=(150, 150),\n",
        "        batch_size=16,\n",
        "        # Since we use binary_crossentropy loss, we need binary labels\n",
        "        class_mode='binary')\n",
        "\n",
        "validation_generator = test_datagen.flow_from_directory(\n",
        "        '/content/gdrive/My Drive/FireVideo/binary_dataset/validation',\n",
        "        target_size=(150, 150),\n",
        "        batch_size=16,\n",
        "        class_mode='binary')"
      ],
      "execution_count": 4,
      "outputs": [
        {
          "output_type": "stream",
          "text": [
            "Found 1826 images belonging to 2 classes.\n",
            "Found 191 images belonging to 2 classes.\n"
          ],
          "name": "stdout"
        }
      ]
    },
    {
      "cell_type": "code",
      "metadata": {
        "id": "9eV6M6KQzLHM",
        "colab_type": "code",
        "outputId": "52309d0d-9de3-4ac9-8785-0d4f7ee6b412",
        "colab": {
          "base_uri": "https://localhost:8080/",
          "height": 1754
        }
      },
      "source": [
        "history = model.fit_generator(\n",
        "      train_generator,\n",
        "      steps_per_epoch=100,\n",
        "      epochs=50,\n",
        "      validation_data=validation_generator,\n",
        "      validation_steps=50)"
      ],
      "execution_count": 5,
      "outputs": [
        {
          "output_type": "stream",
          "text": [
            "Epoch 1/50\n",
            "100/100 [==============================] - 103s 1s/step - loss: 0.5460 - acc: 0.7156 - val_loss: 0.3430 - val_acc: 0.8568\n",
            "Epoch 2/50\n",
            "100/100 [==============================] - 93s 934ms/step - loss: 0.3764 - acc: 0.8329 - val_loss: 0.3184 - val_acc: 0.8807\n",
            "Epoch 3/50\n",
            "100/100 [==============================] - 94s 938ms/step - loss: 0.3238 - acc: 0.8719 - val_loss: 0.2720 - val_acc: 0.8807\n",
            "Epoch 4/50\n",
            "100/100 [==============================] - 93s 930ms/step - loss: 0.2979 - acc: 0.8834 - val_loss: 0.2579 - val_acc: 0.8894\n",
            "Epoch 5/50\n",
            "100/100 [==============================] - 91s 911ms/step - loss: 0.2759 - acc: 0.8868 - val_loss: 0.3091 - val_acc: 0.8693\n",
            "Epoch 6/50\n",
            "100/100 [==============================] - 93s 927ms/step - loss: 0.2459 - acc: 0.9006 - val_loss: 0.2860 - val_acc: 0.8769\n",
            "Epoch 7/50\n",
            "100/100 [==============================] - 91s 906ms/step - loss: 0.2324 - acc: 0.9084 - val_loss: 0.2454 - val_acc: 0.8957\n",
            "Epoch 8/50\n",
            "100/100 [==============================] - 90s 899ms/step - loss: 0.2257 - acc: 0.9125 - val_loss: 0.2401 - val_acc: 0.9070\n",
            "Epoch 9/50\n",
            "100/100 [==============================] - 94s 943ms/step - loss: 0.1845 - acc: 0.9332 - val_loss: 0.3128 - val_acc: 0.8982\n",
            "Epoch 10/50\n",
            "100/100 [==============================] - 90s 896ms/step - loss: 0.1963 - acc: 0.9281 - val_loss: 0.2490 - val_acc: 0.9095\n",
            "Epoch 11/50\n",
            "100/100 [==============================] - 63s 626ms/step - loss: 0.1843 - acc: 0.9319 - val_loss: 0.2474 - val_acc: 0.9183\n",
            "Epoch 12/50\n",
            "100/100 [==============================] - 53s 533ms/step - loss: 0.1643 - acc: 0.9370 - val_loss: 0.2332 - val_acc: 0.9183\n",
            "Epoch 13/50\n",
            "100/100 [==============================] - 53s 531ms/step - loss: 0.1731 - acc: 0.9351 - val_loss: 0.2138 - val_acc: 0.9384\n",
            "Epoch 14/50\n",
            "100/100 [==============================] - 53s 534ms/step - loss: 0.1355 - acc: 0.9563 - val_loss: 0.2749 - val_acc: 0.8932\n",
            "Epoch 15/50\n",
            "100/100 [==============================] - 54s 537ms/step - loss: 0.1513 - acc: 0.9502 - val_loss: 0.2279 - val_acc: 0.9384\n",
            "Epoch 16/50\n",
            "100/100 [==============================] - 55s 553ms/step - loss: 0.1218 - acc: 0.9540 - val_loss: 0.2830 - val_acc: 0.8781\n",
            "Epoch 17/50\n",
            "100/100 [==============================] - 54s 542ms/step - loss: 0.1232 - acc: 0.9571 - val_loss: 0.2345 - val_acc: 0.9372\n",
            "Epoch 18/50\n",
            "100/100 [==============================] - 57s 568ms/step - loss: 0.1116 - acc: 0.9625 - val_loss: 0.2464 - val_acc: 0.9384\n",
            "Epoch 19/50\n",
            "100/100 [==============================] - 56s 558ms/step - loss: 0.0981 - acc: 0.9663 - val_loss: 0.2617 - val_acc: 0.9334\n",
            "Epoch 20/50\n",
            "100/100 [==============================] - 53s 535ms/step - loss: 0.0852 - acc: 0.9710 - val_loss: 0.3359 - val_acc: 0.9196\n",
            "Epoch 21/50\n",
            "100/100 [==============================] - 56s 563ms/step - loss: 0.0964 - acc: 0.9669 - val_loss: 0.2713 - val_acc: 0.9322\n",
            "Epoch 22/50\n",
            "100/100 [==============================] - 54s 539ms/step - loss: 0.0769 - acc: 0.9716 - val_loss: 0.2770 - val_acc: 0.9322\n",
            "Epoch 23/50\n",
            "100/100 [==============================] - 54s 537ms/step - loss: 0.0794 - acc: 0.9767 - val_loss: 0.2802 - val_acc: 0.9334\n",
            "Epoch 24/50\n",
            "100/100 [==============================] - 76s 757ms/step - loss: 0.0657 - acc: 0.9825 - val_loss: 0.3867 - val_acc: 0.9083\n",
            "Epoch 25/50\n",
            "100/100 [==============================] - 54s 541ms/step - loss: 0.0701 - acc: 0.9771 - val_loss: 0.3084 - val_acc: 0.9334\n",
            "Epoch 26/50\n",
            "100/100 [==============================] - 55s 547ms/step - loss: 0.0368 - acc: 0.9919 - val_loss: 0.3819 - val_acc: 0.8995\n",
            "Epoch 27/50\n",
            "100/100 [==============================] - 55s 545ms/step - loss: 0.0611 - acc: 0.9842 - val_loss: 0.3369 - val_acc: 0.9209\n",
            "Epoch 28/50\n",
            "100/100 [==============================] - 54s 538ms/step - loss: 0.0571 - acc: 0.9835 - val_loss: 0.3745 - val_acc: 0.9485\n",
            "Epoch 29/50\n",
            "100/100 [==============================] - 56s 555ms/step - loss: 0.0424 - acc: 0.9862 - val_loss: 0.3524 - val_acc: 0.9384\n",
            "Epoch 30/50\n",
            "100/100 [==============================] - 54s 536ms/step - loss: 0.0526 - acc: 0.9842 - val_loss: 0.4206 - val_acc: 0.9083\n",
            "Epoch 31/50\n",
            "100/100 [==============================] - 52s 524ms/step - loss: 0.0371 - acc: 0.9905 - val_loss: 0.3612 - val_acc: 0.9485\n",
            "Epoch 32/50\n",
            "100/100 [==============================] - 56s 560ms/step - loss: 0.0343 - acc: 0.9899 - val_loss: 0.3432 - val_acc: 0.9183\n",
            "Epoch 33/50\n",
            "100/100 [==============================] - 54s 539ms/step - loss: 0.0392 - acc: 0.9855 - val_loss: 0.3762 - val_acc: 0.9460\n",
            "Epoch 34/50\n",
            "100/100 [==============================] - 54s 541ms/step - loss: 0.0321 - acc: 0.9912 - val_loss: 0.3554 - val_acc: 0.9309\n",
            "Epoch 35/50\n",
            "100/100 [==============================] - 54s 540ms/step - loss: 0.0409 - acc: 0.9861 - val_loss: 0.3786 - val_acc: 0.9460\n",
            "Epoch 36/50\n",
            "100/100 [==============================] - 54s 543ms/step - loss: 0.0427 - acc: 0.9869 - val_loss: 0.3678 - val_acc: 0.9447\n",
            "Epoch 37/50\n",
            "100/100 [==============================] - 54s 541ms/step - loss: 0.0212 - acc: 0.9931 - val_loss: 0.3940 - val_acc: 0.9397\n",
            "Epoch 38/50\n",
            "100/100 [==============================] - 55s 550ms/step - loss: 0.0294 - acc: 0.9905 - val_loss: 0.4486 - val_acc: 0.9472\n",
            "Epoch 39/50\n",
            "100/100 [==============================] - 54s 540ms/step - loss: 0.0311 - acc: 0.9905 - val_loss: 0.8505 - val_acc: 0.8844\n",
            "Epoch 40/50\n",
            "100/100 [==============================] - 55s 550ms/step - loss: 0.0340 - acc: 0.9894 - val_loss: 0.4523 - val_acc: 0.8995\n",
            "Epoch 41/50\n",
            "100/100 [==============================] - 54s 541ms/step - loss: 0.0337 - acc: 0.9918 - val_loss: 0.4556 - val_acc: 0.9422\n",
            "Epoch 42/50\n",
            "100/100 [==============================] - 54s 538ms/step - loss: 0.0292 - acc: 0.9924 - val_loss: 0.4507 - val_acc: 0.9209\n",
            "Epoch 43/50\n",
            "100/100 [==============================] - 68s 682ms/step - loss: 0.0248 - acc: 0.9924 - val_loss: 0.4636 - val_acc: 0.9359\n",
            "Epoch 44/50\n",
            "100/100 [==============================] - 62s 620ms/step - loss: 0.0255 - acc: 0.9905 - val_loss: 0.4272 - val_acc: 0.9485\n",
            "Epoch 45/50\n",
            "100/100 [==============================] - 54s 540ms/step - loss: 0.0233 - acc: 0.9937 - val_loss: 0.4965 - val_acc: 0.9347\n",
            "Epoch 46/50\n",
            "100/100 [==============================] - 55s 550ms/step - loss: 0.0321 - acc: 0.9894 - val_loss: 0.4070 - val_acc: 0.9284\n",
            "Epoch 47/50\n",
            "100/100 [==============================] - 54s 536ms/step - loss: 0.0193 - acc: 0.9962 - val_loss: 0.3800 - val_acc: 0.9548\n",
            "Epoch 48/50\n",
            "100/100 [==============================] - 54s 537ms/step - loss: 0.0267 - acc: 0.9918 - val_loss: 0.4257 - val_acc: 0.9334\n",
            "Epoch 49/50\n",
            "100/100 [==============================] - 54s 536ms/step - loss: 0.0236 - acc: 0.9918 - val_loss: 0.4205 - val_acc: 0.9234\n",
            "Epoch 50/50\n",
            "100/100 [==============================] - 54s 545ms/step - loss: 0.0321 - acc: 0.9918 - val_loss: 0.4472 - val_acc: 0.9472\n"
          ],
          "name": "stdout"
        }
      ]
    },
    {
      "cell_type": "code",
      "metadata": {
        "id": "BsCqKorqXf69",
        "colab_type": "code",
        "colab": {
          "base_uri": "https://localhost:8080/",
          "height": 545
        },
        "outputId": "fa3737e6-11d7-45e3-f8d4-7c9bceb8a66c"
      },
      "source": [
        "import matplotlib.pyplot as plt\n",
        "\n",
        "acc = history.history['acc']\n",
        "val_acc = history.history['val_acc']\n",
        "loss = history.history['loss']\n",
        "val_loss = history.history['val_loss']\n",
        "\n",
        "epochs = range(len(acc))\n",
        "\n",
        "plt.plot(epochs, acc, 'bo', label='Training acc')\n",
        "plt.plot(epochs, val_acc, 'b', label='Validation acc')\n",
        "plt.title('Training and validation accuracy')\n",
        "plt.legend()\n",
        "\n",
        "plt.figure()\n",
        "\n",
        "plt.plot(epochs, loss, 'bo', label='Training loss')\n",
        "plt.plot(epochs, val_loss, 'b', label='Validation loss')\n",
        "plt.title('Training and validation loss')\n",
        "plt.legend()\n",
        "\n",
        "plt.show()"
      ],
      "execution_count": 6,
      "outputs": [
        {
          "output_type": "display_data",
          "data": {
            "image/png": "[encoded data removed]",
            "text/plain": [
              "<Figure size 432x288 with 1 Axes>"
            ]
          },
          "metadata": {
            "tags": []
          }
        },
        {
          "output_type": "display_data",
          "data": {
            "image/png": "[encoded data removed]",
            "text/plain": [
              "<Figure size 432x288 with 1 Axes>"
            ]
          },
          "metadata": {
            "tags": []
          }
        }
      ]
    },
    {
      "cell_type": "markdown",
      "metadata": {
        "id": "yHjBkbQNXl3J",
        "colab_type": "text"
      },
      "source": [
        "### We can see that around 10th epoch the models starts to overfit"
      ]
    },
    {
      "cell_type": "markdown",
      "metadata": {
        "id": "dH5rs83vYqJG",
        "colab_type": "text"
      },
      "source": [
        "# Now let's try with data augumentation"
      ]
    },
    {
      "cell_type": "code",
      "metadata": {
        "id": "EVPEe4jdX0z0",
        "colab_type": "code",
        "colab": {
          "base_uri": "https://localhost:8080/",
          "height": 52
        },
        "outputId": "09e40550-1705-4e53-fa3e-a2ef913664b3"
      },
      "source": [
        "augumented_train_datagen = ImageDataGenerator(\n",
        "    rescale=1./255,\n",
        "    rotation_range=40,\n",
        "    width_shift_range=0.2,\n",
        "    height_shift_range=0.2,\n",
        "    shear_range=0.2,\n",
        "    zoom_range=0.2,\n",
        "    horizontal_flip=True,)\n",
        "\n",
        "validation_generator = test_datagen.flow_from_directory(\n",
        "        directory = '/content/gdrive/My Drive/FireVideo/binary_dataset/validation',\n",
        "        target_size=(150, 150),\n",
        "        batch_size=16,\n",
        "        class_mode='binary')\n",
        "\n",
        "\n",
        "aug_train_generator = augumented_train_datagen.flow_from_directory(\n",
        "        # This is the target directory\n",
        "        '/content/gdrive/My Drive/FireVideo/binary_dataset/train',\n",
        "        # All images will be resized to 150x150\n",
        "        target_size=(150, 150),\n",
        "        batch_size=16,\n",
        "        # Since we use binary_crossentropy loss, we need binary labels\n",
        "        class_mode='binary')"
      ],
      "execution_count": 7,
      "outputs": [
        {
          "output_type": "stream",
          "text": [
            "Found 191 images belonging to 2 classes.\n",
            "Found 1826 images belonging to 2 classes.\n"
          ],
          "name": "stdout"
        }
      ]
    },
    {
      "cell_type": "code",
      "metadata": {
        "id": "VLsddO5yYe3V",
        "colab_type": "code",
        "colab": {}
      },
      "source": [
        "model = models.Sequential()\n",
        "model.add(layers.Conv2D(32, (3, 3), activation='relu',\n",
        "                        input_shape=(150, 150, 3)))\n",
        "model.add(layers.MaxPooling2D((2, 2)))\n",
        "model.add(layers.Conv2D(64, (3, 3), activation='relu'))\n",
        "model.add(layers.MaxPooling2D((2, 2)))\n",
        "model.add(layers.Conv2D(128, (3, 3), activation='relu'))\n",
        "model.add(layers.MaxPooling2D((2, 2)))\n",
        "model.add(layers.Conv2D(128, (3, 3), activation='relu'))\n",
        "model.add(layers.MaxPooling2D((2, 2)))\n",
        "model.add(layers.Flatten())\n",
        "model.add(layers.Dropout(0.5))\n",
        "model.add(layers.Dense(512, activation='relu'))\n",
        "model.add(layers.Dense(1, activation='sigmoid'))\n",
        "\n",
        "model.compile(loss='binary_crossentropy',\n",
        "              optimizer=optimizers.RMSprop(lr=1e-4),\n",
        "              metrics=['acc'])"
      ],
      "execution_count": 0,
      "outputs": []
    },
    {
      "cell_type": "code",
      "metadata": {
        "id": "MoJxf5fYY0FB",
        "colab_type": "code",
        "colab": {
          "base_uri": "https://localhost:8080/",
          "height": 1754
        },
        "outputId": "bf07832b-ee5a-4456-d49c-d23fbb1c0db8"
      },
      "source": [
        "history = model.fit_generator(\n",
        "      aug_train_generator,\n",
        "      steps_per_epoch=100,\n",
        "      epochs=50,\n",
        "      validation_data=validation_generator,\n",
        "      validation_steps=50)\n",
        "\n",
        "model.save('binary_model_augumented_50epochs.h5')"
      ],
      "execution_count": 9,
      "outputs": [
        {
          "output_type": "stream",
          "text": [
            "Epoch 1/50\n",
            "100/100 [==============================] - 64s 643ms/step - loss: 0.6313 - acc: 0.6425 - val_loss: 0.6988 - val_acc: 0.6394\n",
            "Epoch 2/50\n",
            "100/100 [==============================] - 60s 596ms/step - loss: 0.4710 - acc: 0.7700 - val_loss: 0.3651 - val_acc: 0.7952\n",
            "Epoch 3/50\n",
            "100/100 [==============================] - 59s 594ms/step - loss: 0.4309 - acc: 0.8009 - val_loss: 0.4161 - val_acc: 0.8003\n",
            "Epoch 4/50\n",
            "100/100 [==============================] - 60s 599ms/step - loss: 0.4107 - acc: 0.8019 - val_loss: 0.3017 - val_acc: 0.8794\n",
            "Epoch 5/50\n",
            "100/100 [==============================] - 59s 593ms/step - loss: 0.3985 - acc: 0.8159 - val_loss: 0.2911 - val_acc: 0.8781\n",
            "Epoch 6/50\n",
            "100/100 [==============================] - 60s 597ms/step - loss: 0.3729 - acc: 0.8391 - val_loss: 0.2647 - val_acc: 0.8920\n",
            "Epoch 7/50\n",
            "100/100 [==============================] - 60s 597ms/step - loss: 0.3669 - acc: 0.8356 - val_loss: 0.2738 - val_acc: 0.8995\n",
            "Epoch 8/50\n",
            "100/100 [==============================] - 58s 580ms/step - loss: 0.3463 - acc: 0.8493 - val_loss: 0.2549 - val_acc: 0.9033\n",
            "Epoch 9/50\n",
            "100/100 [==============================] - 62s 616ms/step - loss: 0.3500 - acc: 0.8518 - val_loss: 0.2555 - val_acc: 0.9020\n",
            "Epoch 10/50\n",
            "100/100 [==============================] - 60s 595ms/step - loss: 0.3280 - acc: 0.8588 - val_loss: 0.2633 - val_acc: 0.9008\n",
            "Epoch 11/50\n",
            "100/100 [==============================] - 60s 596ms/step - loss: 0.3074 - acc: 0.8731 - val_loss: 0.2535 - val_acc: 0.9033\n",
            "Epoch 12/50\n",
            "100/100 [==============================] - 60s 598ms/step - loss: 0.3071 - acc: 0.8758 - val_loss: 0.2801 - val_acc: 0.8945\n",
            "Epoch 13/50\n",
            "100/100 [==============================] - 60s 598ms/step - loss: 0.3087 - acc: 0.8695 - val_loss: 0.2202 - val_acc: 0.9309\n",
            "Epoch 14/50\n",
            "100/100 [==============================] - 59s 594ms/step - loss: 0.2819 - acc: 0.8739 - val_loss: 0.2162 - val_acc: 0.9372\n",
            "Epoch 15/50\n",
            "100/100 [==============================] - 60s 595ms/step - loss: 0.3035 - acc: 0.8644 - val_loss: 0.2392 - val_acc: 0.9271\n",
            "Epoch 16/50\n",
            "100/100 [==============================] - 59s 592ms/step - loss: 0.2933 - acc: 0.8764 - val_loss: 0.2442 - val_acc: 0.9271\n",
            "Epoch 17/50\n",
            "100/100 [==============================] - 60s 603ms/step - loss: 0.2822 - acc: 0.8796 - val_loss: 0.3056 - val_acc: 0.8920\n",
            "Epoch 18/50\n",
            "100/100 [==============================] - 59s 595ms/step - loss: 0.2850 - acc: 0.8802 - val_loss: 0.2628 - val_acc: 0.9008\n",
            "Epoch 19/50\n",
            "100/100 [==============================] - 60s 598ms/step - loss: 0.2573 - acc: 0.8863 - val_loss: 0.3062 - val_acc: 0.9095\n",
            "Epoch 20/50\n",
            "100/100 [==============================] - 59s 594ms/step - loss: 0.2765 - acc: 0.8976 - val_loss: 0.2134 - val_acc: 0.9234\n",
            "Epoch 21/50\n",
            "100/100 [==============================] - 60s 599ms/step - loss: 0.2619 - acc: 0.8956 - val_loss: 0.2316 - val_acc: 0.9296\n",
            "Epoch 22/50\n",
            "100/100 [==============================] - 60s 596ms/step - loss: 0.2382 - acc: 0.9001 - val_loss: 0.2331 - val_acc: 0.9397\n",
            "Epoch 23/50\n",
            "100/100 [==============================] - 60s 600ms/step - loss: 0.2764 - acc: 0.8938 - val_loss: 0.1983 - val_acc: 0.9435\n",
            "Epoch 24/50\n",
            "100/100 [==============================] - 60s 597ms/step - loss: 0.2559 - acc: 0.9010 - val_loss: 0.1899 - val_acc: 0.9523\n",
            "Epoch 25/50\n",
            "100/100 [==============================] - 60s 597ms/step - loss: 0.2406 - acc: 0.8969 - val_loss: 0.1833 - val_acc: 0.9510\n",
            "Epoch 26/50\n",
            "100/100 [==============================] - 60s 599ms/step - loss: 0.2357 - acc: 0.8982 - val_loss: 0.1884 - val_acc: 0.9422\n",
            "Epoch 27/50\n",
            "100/100 [==============================] - 60s 601ms/step - loss: 0.2419 - acc: 0.8997 - val_loss: 0.2473 - val_acc: 0.9146\n",
            "Epoch 28/50\n",
            "100/100 [==============================] - 60s 600ms/step - loss: 0.2415 - acc: 0.9061 - val_loss: 0.2636 - val_acc: 0.9334\n",
            "Epoch 29/50\n",
            "100/100 [==============================] - 60s 601ms/step - loss: 0.2354 - acc: 0.9187 - val_loss: 0.1727 - val_acc: 0.9523\n",
            "Epoch 30/50\n",
            "100/100 [==============================] - 60s 604ms/step - loss: 0.2400 - acc: 0.9086 - val_loss: 0.2452 - val_acc: 0.9221\n",
            "Epoch 31/50\n",
            "100/100 [==============================] - 58s 579ms/step - loss: 0.2264 - acc: 0.9124 - val_loss: 0.2702 - val_acc: 0.8957\n",
            "Epoch 32/50\n",
            "100/100 [==============================] - 63s 627ms/step - loss: 0.2190 - acc: 0.9086 - val_loss: 0.2681 - val_acc: 0.9083\n",
            "Epoch 33/50\n",
            "100/100 [==============================] - 60s 599ms/step - loss: 0.2335 - acc: 0.9149 - val_loss: 0.2109 - val_acc: 0.9485\n",
            "Epoch 34/50\n",
            "100/100 [==============================] - 60s 600ms/step - loss: 0.2107 - acc: 0.9193 - val_loss: 0.2099 - val_acc: 0.9460\n",
            "Epoch 35/50\n",
            "100/100 [==============================] - 60s 602ms/step - loss: 0.2215 - acc: 0.9244 - val_loss: 0.1708 - val_acc: 0.9460\n",
            "Epoch 36/50\n",
            "100/100 [==============================] - 60s 601ms/step - loss: 0.2073 - acc: 0.9243 - val_loss: 0.1816 - val_acc: 0.9410\n",
            "Epoch 37/50\n",
            "100/100 [==============================] - 60s 601ms/step - loss: 0.2102 - acc: 0.9269 - val_loss: 0.2184 - val_acc: 0.9422\n",
            "Epoch 38/50\n",
            "100/100 [==============================] - 61s 609ms/step - loss: 0.2199 - acc: 0.9250 - val_loss: 0.1629 - val_acc: 0.9523\n",
            "Epoch 39/50\n",
            "100/100 [==============================] - 60s 598ms/step - loss: 0.2053 - acc: 0.9199 - val_loss: 0.2474 - val_acc: 0.9158\n",
            "Epoch 40/50\n",
            "100/100 [==============================] - 61s 608ms/step - loss: 0.2007 - acc: 0.9300 - val_loss: 0.2548 - val_acc: 0.9271\n",
            "Epoch 41/50\n",
            "100/100 [==============================] - 61s 608ms/step - loss: 0.1995 - acc: 0.9199 - val_loss: 0.1898 - val_acc: 0.9397\n",
            "Epoch 42/50\n",
            "100/100 [==============================] - 62s 618ms/step - loss: 0.1823 - acc: 0.9362 - val_loss: 0.1899 - val_acc: 0.9422\n",
            "Epoch 43/50\n",
            "100/100 [==============================] - 60s 604ms/step - loss: 0.2004 - acc: 0.9332 - val_loss: 0.2946 - val_acc: 0.9070\n",
            "Epoch 44/50\n",
            "100/100 [==============================] - 60s 597ms/step - loss: 0.2052 - acc: 0.9212 - val_loss: 0.2009 - val_acc: 0.9447\n",
            "Epoch 45/50\n",
            "100/100 [==============================] - 60s 604ms/step - loss: 0.2067 - acc: 0.9225 - val_loss: 0.2558 - val_acc: 0.9209\n",
            "Epoch 46/50\n",
            "100/100 [==============================] - 60s 597ms/step - loss: 0.1973 - acc: 0.9218 - val_loss: 0.1825 - val_acc: 0.9359\n",
            "Epoch 47/50\n",
            "100/100 [==============================] - 59s 595ms/step - loss: 0.2065 - acc: 0.9200 - val_loss: 0.2314 - val_acc: 0.9435\n",
            "Epoch 48/50\n",
            "100/100 [==============================] - 60s 602ms/step - loss: 0.1933 - acc: 0.9300 - val_loss: 0.2220 - val_acc: 0.9322\n",
            "Epoch 49/50\n",
            "100/100 [==============================] - 60s 597ms/step - loss: 0.1929 - acc: 0.9256 - val_loss: 0.1949 - val_acc: 0.9472\n",
            "Epoch 50/50\n",
            "100/100 [==============================] - 60s 597ms/step - loss: 0.1966 - acc: 0.9262 - val_loss: 0.2571 - val_acc: 0.9359\n"
          ],
          "name": "stdout"
        }
      ]
    },
    {
      "cell_type": "code",
      "metadata": {
        "id": "36peP3zGDK6o",
        "colab_type": "code",
        "colab": {
          "base_uri": "https://localhost:8080/",
          "height": 545
        },
        "outputId": "71a39828-9bc9-487a-fc57-65b2f78cced4"
      },
      "source": [
        "acc = history.history['acc']\n",
        "val_acc = history.history['val_acc']\n",
        "loss = history.history['loss']\n",
        "val_loss = history.history['val_loss']\n",
        "\n",
        "epochs = range(len(acc))\n",
        "\n",
        "plt.plot(epochs, acc, 'bo', label='Training acc')\n",
        "plt.plot(epochs, val_acc, 'b', label='Validation acc')\n",
        "plt.title('Training and validation accuracy')\n",
        "plt.legend()\n",
        "\n",
        "plt.figure()\n",
        "\n",
        "plt.plot(epochs, loss, 'bo', label='Training loss')\n",
        "plt.plot(epochs, val_loss, 'b', label='Validation loss')\n",
        "plt.title('Training and validation loss')\n",
        "plt.legend()\n",
        "\n",
        "plt.show()"
      ],
      "execution_count": 10,
      "outputs": [
        {
          "output_type": "display_data",
          "data": {
            "image/png": "[encoded data removed]",
            "text/plain": [
              "<Figure size 432x288 with 1 Axes>"
            ]
          },
          "metadata": {
            "tags": []
          }
        },
        {
          "output_type": "display_data",
          "data": {
            "image/png": "[encoded data removed]",
            "text/plain": [
              "<Figure size 432x288 with 1 Axes>"
            ]
          },
          "metadata": {
            "tags": []
          }
        }
      ]
    },
    {
      "cell_type": "markdown",
      "metadata": {
        "id": "5BVNWkEqEx2d",
        "colab_type": "text"
      },
      "source": [
        "That's super odd... The validation accuracy is greater than training set accuracy."
      ]
    }
  ]
}