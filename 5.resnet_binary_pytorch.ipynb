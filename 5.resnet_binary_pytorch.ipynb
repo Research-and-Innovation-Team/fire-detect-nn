{
  "nbformat": 4,
  "nbformat_minor": 0,
  "metadata": {
    "colab": {
      "name": "fire - pytorch",
      "provenance": [],
      "collapsed_sections": [],
      "include_colab_link": true
    },
    "kernelspec": {
      "name": "python3",
      "display_name": "Python 3"
    },
    "accelerator": "GPU"
  },
  "cells": [
    {
      "cell_type": "markdown",
      "metadata": {
        "id": "view-in-github",
        "colab_type": "text"
      },
      "source": [
        "<a href=\"https://colab.research.google.com/github/tomek-l/fire/blob/master/5.resnet_binary_pytorch.ipynb\" target=\"_parent\"><img src=\"https://colab.research.google.com/assets/colab-badge.svg\" alt=\"Open In Colab\"/></a>"
      ]
    },
    {
      "cell_type": "code",
      "metadata": {
        "id": "S9BazVz2tBTl",
        "colab_type": "code",
        "colab": {}
      },
      "source": [
        "%matplotlib inline\n",
        "\n",
        "import torch\n",
        "import torchvision\n",
        "import torchvision.transforms as transforms"
      ],
      "execution_count": 0,
      "outputs": []
    },
    {
      "cell_type": "code",
      "metadata": {
        "id": "2M39Mkcjxo90",
        "colab_type": "code",
        "colab": {}
      },
      "source": [
        "import torchvision.models as models\n",
        "\n",
        "class Model(torch.nn.Module):\n",
        "    def __init__(self):\n",
        "        super(Model, self).__init__()\n",
        "\n",
        "        self.backbone = models.resnet18(pretrained=True)\n",
        "        self.backbone.fc = torch.nn.Linear(512,1)\n",
        "        self.sigmoid = torch.nn.Sigmoid()\n",
        "        \n",
        "    def forward(self, x):\n",
        "        x = self.backbone(x)\n",
        "        x = self.sigmoid(x)\n",
        "\n",
        "        return x"
      ],
      "execution_count": 0,
      "outputs": []
    },
    {
      "cell_type": "code",
      "metadata": {
        "id": "Eax2OOos8Hiz",
        "colab_type": "code",
        "outputId": "ae3298e2-b9fb-4d19-c09d-17a69320c566",
        "colab": {
          "base_uri": "https://localhost:8080/",
          "height": 34
        }
      },
      "source": [
        "from google.colab import drive\n",
        "drive.mount('/gdrive')"
      ],
      "execution_count": 3,
      "outputs": [
        {
          "output_type": "stream",
          "text": [
            "Drive already mounted at /gdrive; to attempt to forcibly remount, call drive.mount(\"/gdrive\", force_remount=True).\n"
          ],
          "name": "stdout"
        }
      ]
    },
    {
      "cell_type": "code",
      "metadata": {
        "id": "zR626-AZ8ShR",
        "colab_type": "code",
        "outputId": "492aadbe-9941-429a-a40f-290d11a224b0",
        "colab": {
          "base_uri": "https://localhost:8080/",
          "height": 34
        }
      },
      "source": [
        "!ls '/gdrive/My Drive/cmpe_lab276/FireVideo/binary_dataset/train'"
      ],
      "execution_count": 4,
      "outputs": [
        {
          "output_type": "stream",
          "text": [
            "negatives  positives\n"
          ],
          "name": "stdout"
        }
      ]
    },
    {
      "cell_type": "code",
      "metadata": {
        "id": "Qnr2zaVR9ZnA",
        "colab_type": "code",
        "colab": {}
      },
      "source": [
        "def load_dataset():\n",
        "\n",
        "\n",
        "  tr = torchvision.transforms.Compose([torchvision.transforms.Resize((224,224)),\n",
        "                                  torchvision.transforms.ToTensor()])\n",
        "\n",
        "  train_dataset = torchvision.datasets.ImageFolder(root='/gdrive/My Drive/cmpe_lab276/FireVideo/binary_dataset/train',\n",
        "                                                  transform=tr)\n",
        "\n",
        "  train_loader = torch.utils.data.DataLoader(\n",
        "      train_dataset,\n",
        "      batch_size=16,\n",
        "      num_workers=0,\n",
        "      shuffle=True\n",
        "  )\n",
        "\n",
        "  return train_loader"
      ],
      "execution_count": 0,
      "outputs": []
    },
    {
      "cell_type": "code",
      "metadata": {
        "id": "QRQzutKtA9mR",
        "colab_type": "code",
        "colab": {}
      },
      "source": [
        "trainloader = load_dataset()\n",
        "batch_list = list(trainloader)"
      ],
      "execution_count": 0,
      "outputs": []
    },
    {
      "cell_type": "code",
      "metadata": {
        "id": "OHuOSlG5_55b",
        "colab_type": "code",
        "colab": {}
      },
      "source": [
        "def accuracy(pred, truth):\n",
        "    agreeing = (pred.transpose(0,1)[0] >= 0.5).eq(truth >= 0.5)\n",
        "    acc = float(agreeing.sum())/agreeing.numel()\n",
        "    return acc"
      ],
      "execution_count": 0,
      "outputs": []
    },
    {
      "cell_type": "code",
      "metadata": {
        "id": "lwJwVugdDpEj",
        "colab_type": "code",
        "outputId": "8769ed32-7027-4371-8989-3e9b1cc47ab5",
        "colab": {
          "base_uri": "https://localhost:8080/",
          "height": 1000
        }
      },
      "source": [
        "import torch.optim as optim\n",
        "\n",
        "model = Model()\n",
        "device = torch.device(\"cuda:0\")\n",
        "model = model.to(device)\n",
        "\n",
        "criterion = torch.nn.BCELoss()\n",
        "optimizer = optim.Adam(model.parameters(), lr=1e-5, weight_decay=0)\n",
        "\n",
        "for epoch in range(30):  # epochs\n",
        "\n",
        "    running_loss = 0.0\n",
        "    running_acc = 0.0\n",
        "\n",
        "    for i, data in enumerate(batch_list):\n",
        "        # get the inputs; data is a list of [inputs, labels]\n",
        "        inputs = data[0].to(device)\n",
        "        labels = data[1].to(device)\n",
        "\n",
        "        # zero the parameter gradients\n",
        "        optimizer.zero_grad()\n",
        "\n",
        "        # forward + backward + optimize\n",
        "        outputs = model(inputs)\n",
        "        loss = criterion(outputs[:,0], labels.type_as(outputs[:,0]))\n",
        "        loss.backward()\n",
        "        optimizer.step()\n",
        "\n",
        "        acc = accuracy(outputs, labels)\n",
        "        # print statistics\n",
        "        \n",
        "        running_loss += loss.item()\n",
        "        running_acc += acc\n",
        "        if i%20 == 19:\n",
        "          print(f'epoch: {epoch+1}, batch: {i}, loss: {running_loss/20}, accuracy: {running_acc/20}')\n",
        "          running_loss = 0.0\n",
        "          running_acc = 0.0\n",
        "\n",
        "print('Finished Training')"
      ],
      "execution_count": 12,
      "outputs": [
        {
          "output_type": "stream",
          "text": [
            "epoch: 1, batch: 19, loss: 0.6570004180073739, accuracy: 0.584375\n",
            "epoch: 1, batch: 39, loss: 0.48078336715698244, accuracy: 0.76875\n",
            "epoch: 1, batch: 59, loss: 0.3219021797180176, accuracy: 0.93125\n",
            "epoch: 1, batch: 79, loss: 0.2940948836505413, accuracy: 0.921875\n",
            "epoch: 1, batch: 99, loss: 0.20993741378188133, accuracy: 0.94375\n",
            "epoch: 2, batch: 19, loss: 0.18122894316911697, accuracy: 0.946875\n",
            "epoch: 2, batch: 39, loss: 0.14054579045623541, accuracy: 0.96875\n",
            "epoch: 2, batch: 59, loss: 0.1588105084374547, accuracy: 0.959375\n",
            "epoch: 2, batch: 79, loss: 0.14356687851250172, accuracy: 0.96875\n",
            "epoch: 2, batch: 99, loss: 0.09171762261539698, accuracy: 0.990625\n",
            "epoch: 3, batch: 19, loss: 0.11616989932954311, accuracy: 0.971875\n",
            "epoch: 3, batch: 39, loss: 0.08137623704969883, accuracy: 0.984375\n",
            "epoch: 3, batch: 59, loss: 0.11304593272507191, accuracy: 0.9625\n",
            "epoch: 3, batch: 79, loss: 0.09040649197995662, accuracy: 0.978125\n",
            "epoch: 3, batch: 99, loss: 0.05152659909799695, accuracy: 0.996875\n",
            "epoch: 4, batch: 19, loss: 0.07595549132674932, accuracy: 0.984375\n",
            "epoch: 4, batch: 39, loss: 0.04976304620504379, accuracy: 0.99375\n",
            "epoch: 4, batch: 59, loss: 0.07815823741257191, accuracy: 0.978125\n",
            "epoch: 4, batch: 79, loss: 0.059833439579233524, accuracy: 0.98125\n",
            "epoch: 4, batch: 99, loss: 0.033077841997146605, accuracy: 0.996875\n",
            "epoch: 5, batch: 19, loss: 0.053875466668978335, accuracy: 0.990625\n",
            "epoch: 5, batch: 39, loss: 0.03231639456935227, accuracy: 0.996875\n",
            "epoch: 5, batch: 59, loss: 0.05570640731602907, accuracy: 0.978125\n",
            "epoch: 5, batch: 79, loss: 0.040115123009309174, accuracy: 0.990625\n",
            "epoch: 5, batch: 99, loss: 0.02188586089760065, accuracy: 0.996875\n",
            "epoch: 6, batch: 19, loss: 0.039039374934509395, accuracy: 0.99375\n",
            "epoch: 6, batch: 39, loss: 0.02232289402745664, accuracy: 0.996875\n",
            "epoch: 6, batch: 59, loss: 0.03923496510833502, accuracy: 0.9875\n",
            "epoch: 6, batch: 79, loss: 0.028989226720295847, accuracy: 0.996875\n",
            "epoch: 6, batch: 99, loss: 0.01601774846203625, accuracy: 1.0\n",
            "epoch: 7, batch: 19, loss: 0.02991025187075138, accuracy: 0.99375\n",
            "epoch: 7, batch: 39, loss: 0.015869562118314206, accuracy: 1.0\n",
            "epoch: 7, batch: 59, loss: 0.028956865263171493, accuracy: 0.990625\n",
            "epoch: 7, batch: 79, loss: 0.021509477496147157, accuracy: 1.0\n",
            "epoch: 7, batch: 99, loss: 0.011693841451779008, accuracy: 1.0\n",
            "epoch: 8, batch: 19, loss: 0.022684212401509286, accuracy: 0.99375\n",
            "epoch: 8, batch: 39, loss: 0.012361890578176826, accuracy: 1.0\n",
            "epoch: 8, batch: 59, loss: 0.021210953313857316, accuracy: 0.996875\n",
            "epoch: 8, batch: 79, loss: 0.016529506933875383, accuracy: 1.0\n",
            "epoch: 8, batch: 99, loss: 0.009270436246879399, accuracy: 1.0\n",
            "epoch: 9, batch: 19, loss: 0.018279664998408406, accuracy: 0.99375\n",
            "epoch: 9, batch: 39, loss: 0.009581946814432741, accuracy: 1.0\n",
            "epoch: 9, batch: 59, loss: 0.016451425931882112, accuracy: 1.0\n",
            "epoch: 9, batch: 79, loss: 0.012869748205412179, accuracy: 1.0\n",
            "epoch: 9, batch: 99, loss: 0.007277336798142642, accuracy: 1.0\n",
            "epoch: 10, batch: 19, loss: 0.013932194386143237, accuracy: 0.996875\n",
            "epoch: 10, batch: 39, loss: 0.008216387568973004, accuracy: 1.0\n",
            "epoch: 10, batch: 59, loss: 0.012692038156092166, accuracy: 1.0\n",
            "epoch: 10, batch: 79, loss: 0.010587300942279398, accuracy: 1.0\n",
            "epoch: 10, batch: 99, loss: 0.00625730148749426, accuracy: 1.0\n",
            "epoch: 11, batch: 19, loss: 0.011870259279385209, accuracy: 0.996875\n",
            "epoch: 11, batch: 39, loss: 0.006578576215542853, accuracy: 1.0\n",
            "epoch: 11, batch: 59, loss: 0.01064591461326927, accuracy: 1.0\n",
            "epoch: 11, batch: 79, loss: 0.00849568541161716, accuracy: 1.0\n",
            "epoch: 11, batch: 99, loss: 0.00511534585384652, accuracy: 1.0\n",
            "epoch: 12, batch: 19, loss: 0.0091182257339824, accuracy: 1.0\n",
            "epoch: 12, batch: 39, loss: 0.006010537373367697, accuracy: 1.0\n",
            "epoch: 12, batch: 59, loss: 0.008839081157930195, accuracy: 1.0\n",
            "epoch: 12, batch: 79, loss: 0.007437257410492748, accuracy: 1.0\n",
            "epoch: 12, batch: 99, loss: 0.004669484368059784, accuracy: 1.0\n",
            "epoch: 13, batch: 19, loss: 0.007966932083945721, accuracy: 1.0\n",
            "epoch: 13, batch: 39, loss: 0.004839700646698475, accuracy: 1.0\n",
            "epoch: 13, batch: 59, loss: 0.007512700918596238, accuracy: 1.0\n",
            "epoch: 13, batch: 79, loss: 0.006099088198971004, accuracy: 1.0\n",
            "epoch: 13, batch: 99, loss: 0.0038841271307319403, accuracy: 1.0\n",
            "epoch: 14, batch: 19, loss: 0.0064679151866585015, accuracy: 1.0\n",
            "epoch: 14, batch: 39, loss: 0.0044186318235006185, accuracy: 1.0\n",
            "epoch: 14, batch: 59, loss: 0.006435759289888665, accuracy: 1.0\n",
            "epoch: 14, batch: 79, loss: 0.00537794113624841, accuracy: 1.0\n",
            "epoch: 14, batch: 99, loss: 0.0035631076258141547, accuracy: 1.0\n",
            "epoch: 15, batch: 19, loss: 0.005770865164231509, accuracy: 1.0\n",
            "epoch: 15, batch: 39, loss: 0.003767350263660774, accuracy: 1.0\n",
            "epoch: 15, batch: 59, loss: 0.0056649558013305065, accuracy: 1.0\n",
            "epoch: 15, batch: 79, loss: 0.004549669852713123, accuracy: 1.0\n",
            "epoch: 15, batch: 99, loss: 0.003034184855641797, accuracy: 1.0\n",
            "epoch: 16, batch: 19, loss: 0.00491358126164414, accuracy: 1.0\n",
            "epoch: 16, batch: 39, loss: 0.0034140592062612994, accuracy: 1.0\n",
            "epoch: 16, batch: 59, loss: 0.005001117126084864, accuracy: 1.0\n",
            "epoch: 16, batch: 79, loss: 0.004039675201056525, accuracy: 1.0\n",
            "epoch: 16, batch: 99, loss: 0.0027592205675318836, accuracy: 1.0\n",
            "epoch: 17, batch: 19, loss: 0.0043829365633428095, accuracy: 1.0\n",
            "epoch: 17, batch: 39, loss: 0.002963101945351809, accuracy: 1.0\n",
            "epoch: 17, batch: 59, loss: 0.0044424929423257705, accuracy: 1.0\n",
            "epoch: 17, batch: 79, loss: 0.0035143203422194347, accuracy: 1.0\n",
            "epoch: 17, batch: 99, loss: 0.002410341188078746, accuracy: 1.0\n",
            "epoch: 18, batch: 19, loss: 0.0038147299113916234, accuracy: 1.0\n",
            "epoch: 18, batch: 39, loss: 0.0026690360507927837, accuracy: 1.0\n",
            "epoch: 18, batch: 59, loss: 0.003935652592917904, accuracy: 1.0\n",
            "epoch: 18, batch: 79, loss: 0.00310308855259791, accuracy: 1.0\n",
            "epoch: 18, batch: 99, loss: 0.0021848381409654396, accuracy: 1.0\n",
            "epoch: 19, batch: 19, loss: 0.0034236566280014813, accuracy: 1.0\n",
            "epoch: 19, batch: 39, loss: 0.002388127107406035, accuracy: 1.0\n",
            "epoch: 19, batch: 59, loss: 0.003544088429771364, accuracy: 1.0\n",
            "epoch: 19, batch: 79, loss: 0.0027605096489423885, accuracy: 1.0\n",
            "epoch: 19, batch: 99, loss: 0.0019507376156980172, accuracy: 1.0\n",
            "epoch: 20, batch: 19, loss: 0.003056073380867019, accuracy: 1.0\n",
            "epoch: 20, batch: 39, loss: 0.0021705194463720544, accuracy: 1.0\n",
            "epoch: 20, batch: 59, loss: 0.0031979255349142478, accuracy: 1.0\n",
            "epoch: 20, batch: 79, loss: 0.0024817899364279585, accuracy: 1.0\n",
            "epoch: 20, batch: 99, loss: 0.001777422652230598, accuracy: 1.0\n",
            "epoch: 21, batch: 19, loss: 0.002772565057966858, accuracy: 1.0\n",
            "epoch: 21, batch: 39, loss: 0.001968782009498682, accuracy: 1.0\n",
            "epoch: 21, batch: 59, loss: 0.0029147001361707224, accuracy: 1.0\n",
            "epoch: 21, batch: 79, loss: 0.0022369953425368295, accuracy: 1.0\n",
            "epoch: 21, batch: 99, loss: 0.0016088408534415065, accuracy: 1.0\n",
            "epoch: 22, batch: 19, loss: 0.00251666680269409, accuracy: 1.0\n",
            "epoch: 22, batch: 39, loss: 0.0018073897110298276, accuracy: 1.0\n",
            "epoch: 22, batch: 59, loss: 0.0026599492790410294, accuracy: 1.0\n",
            "epoch: 22, batch: 79, loss: 0.0020339332113508135, accuracy: 1.0\n",
            "epoch: 22, batch: 99, loss: 0.001481510209850967, accuracy: 1.0\n",
            "epoch: 23, batch: 19, loss: 0.00231487343844492, accuracy: 1.0\n",
            "epoch: 23, batch: 39, loss: 0.001656065286078956, accuracy: 1.0\n",
            "epoch: 23, batch: 59, loss: 0.002453355545003433, accuracy: 1.0\n",
            "epoch: 23, batch: 79, loss: 0.001854073503636755, accuracy: 1.0\n",
            "epoch: 23, batch: 99, loss: 0.0013504937611287459, accuracy: 1.0\n",
            "epoch: 24, batch: 19, loss: 0.002127929472771939, accuracy: 1.0\n",
            "epoch: 24, batch: 39, loss: 0.0015411922926432454, accuracy: 1.0\n",
            "epoch: 24, batch: 59, loss: 0.0022645958364591935, accuracy: 1.0\n",
            "epoch: 24, batch: 79, loss: 0.0017064806015696377, accuracy: 1.0\n",
            "epoch: 24, batch: 99, loss: 0.0012655944912694395, accuracy: 1.0\n",
            "epoch: 25, batch: 19, loss: 0.0019941393795306793, accuracy: 1.0\n",
            "epoch: 25, batch: 39, loss: 0.0014302955591119827, accuracy: 1.0\n",
            "epoch: 25, batch: 59, loss: 0.002131196601840202, accuracy: 1.0\n",
            "epoch: 25, batch: 79, loss: 0.0015837327810004354, accuracy: 1.0\n",
            "epoch: 25, batch: 99, loss: 0.0011582126957364381, accuracy: 1.0\n",
            "epoch: 26, batch: 19, loss: 0.0018834067217539997, accuracy: 1.0\n",
            "epoch: 26, batch: 39, loss: 0.0013896689953980968, accuracy: 1.0\n",
            "epoch: 26, batch: 59, loss: 0.002026788331568241, accuracy: 1.0\n",
            "epoch: 26, batch: 79, loss: 0.0015031638904474676, accuracy: 1.0\n",
            "epoch: 26, batch: 99, loss: 0.001142650982365012, accuracy: 1.0\n",
            "epoch: 27, batch: 19, loss: 0.0018594574954477138, accuracy: 1.0\n",
            "epoch: 27, batch: 39, loss: 0.0013357798743527383, accuracy: 1.0\n",
            "epoch: 27, batch: 59, loss: 0.002027294035360683, accuracy: 1.0\n",
            "epoch: 27, batch: 79, loss: 0.0014805413520662114, accuracy: 1.0\n",
            "epoch: 27, batch: 99, loss: 0.0010732102382462472, accuracy: 1.0\n",
            "epoch: 28, batch: 19, loss: 0.001877016462094616, accuracy: 1.0\n",
            "epoch: 28, batch: 39, loss: 0.0014590895079891197, accuracy: 1.0\n",
            "epoch: 28, batch: 59, loss: 0.002109798569290433, accuracy: 1.0\n",
            "epoch: 28, batch: 79, loss: 0.0015212159225484357, accuracy: 1.0\n",
            "epoch: 28, batch: 99, loss: 0.0011917432391783222, accuracy: 1.0\n",
            "epoch: 29, batch: 19, loss: 0.0018122492721886374, accuracy: 1.0\n",
            "epoch: 29, batch: 39, loss: 0.0012365568647510373, accuracy: 1.0\n",
            "epoch: 29, batch: 59, loss: 0.0019263724592747168, accuracy: 1.0\n",
            "epoch: 29, batch: 79, loss: 0.0013293949945364148, accuracy: 1.0\n",
            "epoch: 29, batch: 99, loss: 0.0010250019113300368, accuracy: 1.0\n",
            "epoch: 30, batch: 19, loss: 0.0016711356045561842, accuracy: 1.0\n",
            "epoch: 30, batch: 39, loss: 0.001158028132340405, accuracy: 1.0\n",
            "epoch: 30, batch: 59, loss: 0.001792573436978273, accuracy: 1.0\n",
            "epoch: 30, batch: 79, loss: 0.0012295432708924637, accuracy: 1.0\n",
            "epoch: 30, batch: 99, loss: 0.0009680957053205929, accuracy: 1.0\n",
            "Finished Training\n"
          ],
          "name": "stdout"
        }
      ]
    }
  ]
}