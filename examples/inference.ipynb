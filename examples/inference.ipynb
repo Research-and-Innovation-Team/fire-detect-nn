{
 "cells": [
  {
   "cell_type": "code",
   "execution_count": 51,
   "metadata": {},
   "outputs": [
    {
     "name": "stdout",
     "output_type": "stream",
     "text": [
      "Fire score: 0.9950952529907227\n"
     ]
    }
   ],
   "source": [
    "import torch\n",
    "import torchvision\n",
    "\n",
    "from PIL import Image\n",
    "import requests\n",
    "from io import BytesIO\n",
    "\n",
    "url = \"https://cdn.cnn.com/cnnnext/dam/assets/200927234512-02-glass-fire-0927-exlarge-169.jpg\"\n",
    "response = requests.get(url)\n",
    "img = Image.open(BytesIO(response.content))\n",
    "\n",
    "device = \"cuda:0\"\n",
    "m = torch.load('weights/resnet50-epoch-8-valid_acc=0.97-test_acc=-1.00.pt')\n",
    "m = m.to(device)\n",
    "m.eval()\n",
    "\n",
    "tr = torchvision.transforms.Compose(\n",
    "    [torchvision.transforms.Resize((224, 224)), torchvision.transforms.ToTensor()]\n",
    ")\n",
    "\n",
    "tensor_in = tr(img).to(device)\n",
    "batch_in = torch.unsqueeze(tensor_in, dim=0)\n",
    "batch_out = m(batch_in)\n",
    "print(f\"Fire score: {float(batch_out[0])}\")"
   ]
  }
 ],
 "metadata": {
  "kernelspec": {
   "display_name": "Python 3",
   "language": "python",
   "name": "python3"
  },
  "language_info": {
   "codemirror_mode": {
    "name": "ipython",
    "version": 3
   },
   "file_extension": ".py",
   "mimetype": "text/x-python",
   "name": "python",
   "nbconvert_exporter": "python",
   "pygments_lexer": "ipython3",
   "version": "3.8.2"
  }
 },
 "nbformat": 4,
 "nbformat_minor": 4
}
