{
  "nbformat": 4,
  "nbformat_minor": 0,
  "metadata": {
    "colab": {
      "name": "19_07_06_VGG_monolith_model_training",
      "version": "0.3.2",
      "provenance": [],
      "collapsed_sections": [],
      "include_colab_link": true
    },
    "kernelspec": {
      "name": "python3",
      "display_name": "Python 3"
    },
    "accelerator": "GPU"
  },
  "cells": [
    {
      "cell_type": "markdown",
      "metadata": {
        "id": "view-in-github",
        "colab_type": "text"
      },
      "source": [
        "<a href=\"https://colab.research.google.com/github/tomek-l/fire/blob/master/19_07_06_VGG_monolith_model_training.ipynb\" target=\"_parent\"><img src=\"https://colab.research.google.com/assets/colab-badge.svg\" alt=\"Open In Colab\"/></a>"
      ]
    },
    {
      "cell_type": "markdown",
      "metadata": {
        "id": "Bo09mSx4B2kj",
        "colab_type": "text"
      },
      "source": [
        "# VGG-16 based binary fire classifier (v2)"
      ]
    },
    {
      "cell_type": "markdown",
      "metadata": {
        "id": "d5ZuhmSwCSBI",
        "colab_type": "text"
      },
      "source": [
        "# Binary classifier based of VGG-16 "
      ]
    },
    {
      "cell_type": "code",
      "metadata": {
        "id": "W53OQ306ZFAQ",
        "colab_type": "code",
        "colab": {
          "base_uri": "https://localhost:8080/",
          "height": 903
        },
        "outputId": "768e8e5c-01ac-4e77-eb6b-ff0eab48fe55"
      },
      "source": [
        "from keras.applications import VGG16\n",
        "from keras import models\n",
        "from keras import layers\n",
        "\n",
        "model = VGG16(weights='imagenet', include_top=False, input_shape=(256, 256, 3))\n",
        "\n",
        "for layer in model.layers:\n",
        "  layer.trainable = False\n",
        "\n",
        "x = model.output\n",
        "x = layers.Flatten()(x)\n",
        "x = layers.Dense(256, activation='relu')(x)\n",
        "x.trainable = True\n",
        "x = layers.Dense(1, activation='sigmoid')(x)\n",
        "x. trainable = True\n",
        "\n",
        "model = models.Model(model.input, x)\n",
        "\n",
        "model.summary()"
      ],
      "execution_count": 6,
      "outputs": [
        {
          "output_type": "stream",
          "text": [
            "_________________________________________________________________\n",
            "Layer (type)                 Output Shape              Param #   \n",
            "=================================================================\n",
            "input_6 (InputLayer)         (None, 150, 150, 3)       0         \n",
            "_________________________________________________________________\n",
            "block1_conv1 (Conv2D)        (None, 150, 150, 64)      1792      \n",
            "_________________________________________________________________\n",
            "block1_conv2 (Conv2D)        (None, 150, 150, 64)      36928     \n",
            "_________________________________________________________________\n",
            "block1_pool (MaxPooling2D)   (None, 75, 75, 64)        0         \n",
            "_________________________________________________________________\n",
            "block2_conv1 (Conv2D)        (None, 75, 75, 128)       73856     \n",
            "_________________________________________________________________\n",
            "block2_conv2 (Conv2D)        (None, 75, 75, 128)       147584    \n",
            "_________________________________________________________________\n",
            "block2_pool (MaxPooling2D)   (None, 37, 37, 128)       0         \n",
            "_________________________________________________________________\n",
            "block3_conv1 (Conv2D)        (None, 37, 37, 256)       295168    \n",
            "_________________________________________________________________\n",
            "block3_conv2 (Conv2D)        (None, 37, 37, 256)       590080    \n",
            "_________________________________________________________________\n",
            "block3_conv3 (Conv2D)        (None, 37, 37, 256)       590080    \n",
            "_________________________________________________________________\n",
            "block3_pool (MaxPooling2D)   (None, 18, 18, 256)       0         \n",
            "_________________________________________________________________\n",
            "block4_conv1 (Conv2D)        (None, 18, 18, 512)       1180160   \n",
            "_________________________________________________________________\n",
            "block4_conv2 (Conv2D)        (None, 18, 18, 512)       2359808   \n",
            "_________________________________________________________________\n",
            "block4_conv3 (Conv2D)        (None, 18, 18, 512)       2359808   \n",
            "_________________________________________________________________\n",
            "block4_pool (MaxPooling2D)   (None, 9, 9, 512)         0         \n",
            "_________________________________________________________________\n",
            "block5_conv1 (Conv2D)        (None, 9, 9, 512)         2359808   \n",
            "_________________________________________________________________\n",
            "block5_conv2 (Conv2D)        (None, 9, 9, 512)         2359808   \n",
            "_________________________________________________________________\n",
            "block5_conv3 (Conv2D)        (None, 9, 9, 512)         2359808   \n",
            "_________________________________________________________________\n",
            "block5_pool (MaxPooling2D)   (None, 4, 4, 512)         0         \n",
            "_________________________________________________________________\n",
            "flatten_2 (Flatten)          (None, 8192)              0         \n",
            "_________________________________________________________________\n",
            "dense_3 (Dense)              (None, 256)               2097408   \n",
            "_________________________________________________________________\n",
            "dense_4 (Dense)              (None, 1)                 257       \n",
            "=================================================================\n",
            "Total params: 16,812,353\n",
            "Trainable params: 2,097,665\n",
            "Non-trainable params: 14,714,688\n",
            "_________________________________________________________________\n"
          ],
          "name": "stdout"
        }
      ]
    },
    {
      "cell_type": "code",
      "metadata": {
        "id": "FI74TQs5bmJ2",
        "colab_type": "code",
        "outputId": "c254473e-7b86-4c09-c165-ff5e0dd99520",
        "colab": {
          "base_uri": "https://localhost:8080/",
          "height": 1000
        }
      },
      "source": [
        "from google.colab import drive\n",
        "drive.mount('/content/gdrive')\n",
        "\n",
        "from keras import optimizers\n",
        "from keras.preprocessing.image import ImageDataGenerator\n",
        "\n",
        "train_datagen = ImageDataGenerator(\n",
        "      rescale=1./255,\n",
        "      rotation_range=40,\n",
        "      width_shift_range=0.2,\n",
        "      height_shift_range=0.2,\n",
        "      shear_range=0.2,\n",
        "      zoom_range=0.2,\n",
        "      horizontal_flip=True,\n",
        "      fill_mode='nearest')\n",
        "\n",
        "# Note that the validation data should not be augmented!\n",
        "test_datagen = ImageDataGenerator(rescale=1./255)\n",
        "\n",
        "train_generator = train_datagen.flow_from_directory(\n",
        "        # This is the target directory\n",
        "        '/content/gdrive/My Drive/FireVideo/binary_dataset/train',\n",
        "        # All images will be resized to 150x150\n",
        "        target_size=(256, 256),\n",
        "        batch_size=16,\n",
        "        # Since we use binary_crossentropy loss, we need binary labels\n",
        "        class_mode='binary')\n",
        "\n",
        "validation_generator = test_datagen.flow_from_directory(\n",
        "        directory='/content/gdrive/My Drive/FireVideo/binary_dataset/validation',\n",
        "        target_size=(256, 256),\n",
        "        batch_size=16,\n",
        "        class_mode='binary')\n",
        "\n",
        "model.compile(loss='binary_crossentropy',\n",
        "              optimizer=optimizers.RMSprop(lr=2e-5),\n",
        "              metrics=['acc'])\n",
        "\n",
        "history = model.fit_generator(\n",
        "      train_generator,\n",
        "      steps_per_epoch=100,\n",
        "      epochs=30,\n",
        "      validation_data=validation_generator,\n",
        "      validation_steps=50,\n",
        "      verbose=2)"
      ],
      "execution_count": 9,
      "outputs": [
        {
          "output_type": "stream",
          "text": [
            "Drive already mounted at /content/gdrive; to attempt to forcibly remount, call drive.mount(\"/content/gdrive\", force_remount=True).\n",
            "Found 1826 images belonging to 2 classes.\n",
            "Found 191 images belonging to 2 classes.\n"
          ],
          "name": "stdout"
        },
        {
          "output_type": "stream",
          "text": [
            "W0706 15:04:24.998028 139813664946048 deprecation_wrapper.py:119] From /usr/local/lib/python3.6/dist-packages/keras/optimizers.py:790: The name tf.train.Optimizer is deprecated. Please use tf.compat.v1.train.Optimizer instead.\n",
            "\n",
            "W0706 15:04:25.011679 139813664946048 deprecation.py:323] From /usr/local/lib/python3.6/dist-packages/tensorflow/python/ops/nn_impl.py:180: add_dispatch_support.<locals>.wrapper (from tensorflow.python.ops.array_ops) is deprecated and will be removed in a future version.\n",
            "Instructions for updating:\n",
            "Use tf.where in 2.0, which has the same broadcast rule as np.where\n"
          ],
          "name": "stderr"
        },
        {
          "output_type": "stream",
          "text": [
            "Epoch 1/30\n",
            " - 64s - loss: 0.5286 - acc: 0.7788 - val_loss: 0.3614 - val_acc: 0.8832\n",
            "Epoch 2/30\n",
            " - 58s - loss: 0.3819 - acc: 0.8700 - val_loss: 0.2982 - val_acc: 0.8731\n",
            "Epoch 3/30\n",
            " - 58s - loss: 0.3244 - acc: 0.8750 - val_loss: 0.2573 - val_acc: 0.9070\n",
            "Epoch 4/30\n",
            " - 58s - loss: 0.3037 - acc: 0.8787 - val_loss: 0.2300 - val_acc: 0.9158\n",
            "Epoch 5/30\n",
            " - 58s - loss: 0.2648 - acc: 0.9056 - val_loss: 0.2265 - val_acc: 0.9133\n",
            "Epoch 6/30\n",
            " - 58s - loss: 0.2533 - acc: 0.9087 - val_loss: 0.2060 - val_acc: 0.9182\n",
            "Epoch 7/30\n",
            " - 59s - loss: 0.2579 - acc: 0.9019 - val_loss: 0.2115 - val_acc: 0.9309\n",
            "Epoch 8/30\n",
            " - 60s - loss: 0.2468 - acc: 0.9038 - val_loss: 0.2054 - val_acc: 0.9234\n",
            "Epoch 9/30\n",
            " - 60s - loss: 0.2284 - acc: 0.9169 - val_loss: 0.2076 - val_acc: 0.9108\n",
            "Epoch 10/30\n",
            " - 59s - loss: 0.2368 - acc: 0.9225 - val_loss: 0.2070 - val_acc: 0.9234\n",
            "Epoch 11/30\n",
            " - 59s - loss: 0.2186 - acc: 0.9225 - val_loss: 0.2056 - val_acc: 0.9271\n",
            "Epoch 12/30\n",
            " - 60s - loss: 0.2204 - acc: 0.9206 - val_loss: 0.1923 - val_acc: 0.9358\n",
            "Epoch 13/30\n",
            " - 60s - loss: 0.2239 - acc: 0.9119 - val_loss: 0.1815 - val_acc: 0.9422\n",
            "Epoch 14/30\n",
            " - 60s - loss: 0.2120 - acc: 0.9219 - val_loss: 0.1945 - val_acc: 0.9209\n",
            "Epoch 15/30\n",
            " - 60s - loss: 0.2157 - acc: 0.9244 - val_loss: 0.1806 - val_acc: 0.9410\n",
            "Epoch 16/30\n",
            " - 60s - loss: 0.2051 - acc: 0.9256 - val_loss: 0.1777 - val_acc: 0.9447\n",
            "Epoch 17/30\n",
            " - 60s - loss: 0.2137 - acc: 0.9244 - val_loss: 0.1924 - val_acc: 0.9359\n",
            "Epoch 18/30\n",
            " - 60s - loss: 0.2052 - acc: 0.9250 - val_loss: 0.2167 - val_acc: 0.9094\n",
            "Epoch 19/30\n",
            " - 61s - loss: 0.2061 - acc: 0.9281 - val_loss: 0.2122 - val_acc: 0.9033\n",
            "Epoch 20/30\n",
            " - 60s - loss: 0.1929 - acc: 0.9244 - val_loss: 0.1788 - val_acc: 0.9372\n",
            "Epoch 21/30\n",
            " - 60s - loss: 0.2011 - acc: 0.9244 - val_loss: 0.1784 - val_acc: 0.9384\n",
            "Epoch 22/30\n",
            " - 60s - loss: 0.1988 - acc: 0.9287 - val_loss: 0.2142 - val_acc: 0.9234\n",
            "Epoch 23/30\n",
            " - 61s - loss: 0.1922 - acc: 0.9269 - val_loss: 0.2336 - val_acc: 0.8807\n",
            "Epoch 24/30\n",
            " - 62s - loss: 0.1980 - acc: 0.9275 - val_loss: 0.1998 - val_acc: 0.9170\n",
            "Epoch 25/30\n",
            " - 61s - loss: 0.1936 - acc: 0.9381 - val_loss: 0.1568 - val_acc: 0.9485\n",
            "Epoch 26/30\n",
            " - 61s - loss: 0.1871 - acc: 0.9294 - val_loss: 0.1755 - val_acc: 0.9460\n",
            "Epoch 27/30\n",
            " - 61s - loss: 0.1948 - acc: 0.9281 - val_loss: 0.1735 - val_acc: 0.9598\n",
            "Epoch 28/30\n",
            " - 60s - loss: 0.1823 - acc: 0.9313 - val_loss: 0.1584 - val_acc: 0.9497\n",
            "Epoch 29/30\n",
            " - 61s - loss: 0.2238 - acc: 0.9263 - val_loss: 0.1656 - val_acc: 0.9447\n",
            "Epoch 30/30\n",
            " - 62s - loss: 0.1877 - acc: 0.9362 - val_loss: 0.1882 - val_acc: 0.9434\n"
          ],
          "name": "stdout"
        }
      ]
    },
    {
      "cell_type": "code",
      "metadata": {
        "id": "URUUIJ63Kxn_",
        "colab_type": "code",
        "colab": {
          "base_uri": "https://localhost:8080/",
          "height": 545
        },
        "outputId": "205a3779-03dd-4c45-955b-5b6b9df2b697"
      },
      "source": [
        "import matplotlib.pyplot as plt\n",
        "\n",
        "acc = history.history['acc']\n",
        "val_acc = history.history['val_acc']\n",
        "loss = history.history['loss']\n",
        "val_loss = history.history['val_loss']\n",
        "\n",
        "epochs = range(len(acc))\n",
        "\n",
        "plt.plot(epochs, acc, 'bo', label='Training acc')\n",
        "plt.plot(epochs, val_acc, 'b', label='Validation acc')\n",
        "plt.title('Training and validation accuracy')\n",
        "plt.legend()\n",
        "\n",
        "plt.figure()\n",
        "\n",
        "plt.plot(epochs, loss, 'bo', label='Training loss')\n",
        "plt.plot(epochs, val_loss, 'b', label='Validation loss')\n",
        "plt.title('Training and validation loss')\n",
        "plt.legend()\n",
        "\n",
        "plt.show()"
      ],
      "execution_count": 14,
      "outputs": [
        {
          "output_type": "display_data",
          "data": {
            "image/png": "[encoded data removed]",
            "text/plain": [
              "<Figure size 432x288 with 1 Axes>"
            ]
          },
          "metadata": {
            "tags": []
          }
        },
        {
          "output_type": "display_data",
          "data": {
            "image/png": "[encoded data removed]",
            "text/plain": [
              "<Figure size 432x288 with 1 Axes>"
            ]
          },
          "metadata": {
            "tags": []
          }
        }
      ]
    },
    {
      "cell_type": "code",
      "metadata": {
        "id": "gQ2FlUHbTDCq",
        "colab_type": "code",
        "colab": {}
      },
      "source": [
        "model.save('/content/gdrive/My Drive/FireVideo/VGG_monolth_30epochs.h5')"
      ],
      "execution_count": 0,
      "outputs": []
    }
  ]
}