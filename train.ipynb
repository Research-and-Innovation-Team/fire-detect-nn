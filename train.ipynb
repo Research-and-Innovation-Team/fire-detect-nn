{
 "cells": [
  {
   "cell_type": "markdown",
   "metadata": {
    "colab_type": "text",
    "id": "view-in-github"
   },
   "source": [
    "<a href=\"https://colab.research.google.com/github/tomek-l/fire-detect-nn/blob/master/train.ipynb\" target=\"_parent\"><img src=\"https://colab.research.google.com/assets/colab-badge.svg\" alt=\"Open In Colab\"/></a>"
   ]
  },
  {
   "cell_type": "code",
   "execution_count": 1,
   "metadata": {
    "colab": {},
    "colab_type": "code",
    "id": "_hYGCymn0wW7"
   },
   "outputs": [
    {
     "name": "stdout",
     "output_type": "stream",
     "text": [
      "loaded 330 training batches and 37 validation batches\n",
      "loaded 184 test batches\n"
     ]
    }
   ],
   "source": [
    "from model import Model, load_dataset, accuracy\n",
    "import numpy as np\n",
    "import torch\n",
    "import torchvision\n",
    "\n",
    "BACKBONES = ['resnet18','resnet34','resnet50','resnet101', 'densenet121', 'mobilenet']\n",
    "BACKBONES = ['resnet50'] # override with just one backbone\n",
    "\n",
    "dataset_paths = {'mine': '/home/013855803/fire_aerial2k_dataset/',\n",
    "                 'dunnings': '/home/013855803/fire-dataset-dunnings/images-224x224/train',\n",
    "                 'dunnings_test': '/home/013855803/fire-dataset-dunnings/images-224x224/test'}\n",
    "\n",
    "train, valid = load_dataset(dataset_paths['dunnings'], batch_size=64)\n",
    "\n",
    "tr = torchvision.transforms.Compose([torchvision.transforms.Resize((224,224)),\n",
    "                            torchvision.transforms.ToTensor()])\n",
    "\n",
    "test_dataset = torchvision.datasets.ImageFolder(root=dataset_paths['dunnings_test'],\n",
    "                                                transform=tr)\n",
    "\n",
    "\n",
    "test = torch.utils.data.DataLoader(\n",
    "    test_dataset,\n",
    "    batch_size=16,\n",
    "    num_workers=0,\n",
    "    shuffle=False\n",
    ")\n",
    "\n",
    "print(f'loaded {len(train)} training batches and {len(valid)} validation batches')\n",
    "print(f'loaded {len(test)} test batches')\n",
    "\n",
    "# Can be useful if we're retraining many times on the entire dataset\n",
    "# completely memory extravagant but I have 256GB of RAM to use :)\n",
    "# train, valid = list(train), list(valid)"
   ]
  },
  {
   "cell_type": "code",
   "execution_count": 2,
   "metadata": {
    "colab": {},
    "colab_type": "code",
    "id": "lwJwVugdDpEj"
   },
   "outputs": [
    {
     "name": "stdout",
     "output_type": "stream",
     "text": [
      "epoch: 1, batch: 19,                 loss: 0.2499097514897585, training accuracy: 0.89375\n",
      "epoch: 1, batch: 39,                 loss: 0.17549494206905364, training accuracy: 0.926953125\n",
      "epoch: 1, batch: 59,                 loss: 0.14291056434934338, training accuracy: 0.9432291666666667\n",
      "epoch: 1, batch: 79,                 loss: 0.1258889297954738, training accuracy: 0.9509765625\n",
      "epoch: 1, batch: 99,                 loss: 0.10898326711729169, training accuracy: 0.95859375\n",
      "epoch: 1, batch: 119,                 loss: 0.09728525512618943, training accuracy: 0.963671875\n",
      "epoch: 1, batch: 139,                 loss: 0.0914144716258826, training accuracy: 0.9658482142857143\n",
      "epoch: 1, batch: 159,                 loss: 0.08747305851138662, training accuracy: 0.967578125\n",
      "epoch: 1, batch: 179,                 loss: 0.08304406131048583, training accuracy: 0.9693576388888889\n",
      "epoch: 1, batch: 199,                 loss: 0.07870092785684392, training accuracy: 0.971171875\n",
      "epoch: 1, batch: 219,                 loss: 0.0753070522840558, training accuracy: 0.9728693181818182\n",
      "epoch: 1, batch: 239,                 loss: 0.07285652631932558, training accuracy: 0.9736979166666667\n",
      "epoch: 1, batch: 259,                 loss: 0.07103075770517954, training accuracy: 0.97421875\n",
      "epoch: 1, batch: 279,                 loss: 0.06858896874223969, training accuracy: 0.9749441964285714\n",
      "epoch: 1, batch: 299,                 loss: 0.0662450288546582, training accuracy: 0.9759375\n",
      "epoch: 1, batch: 319,                 loss: 0.06457663112960291, training accuracy: 0.97666015625\n",
      "validation accuracy 0.989\n",
      "test_accuracy 0.6099\n",
      "Saved weights/resnet50-epoch-0-valid_acc=0.989-test_acc=0.6099.pt\n",
      "Finished Training: resnet50\n"
     ]
    }
   ],
   "source": [
    "import torch\n",
    "device = torch.device(\"cuda:0\")\n",
    "is_validating = True\n",
    "is_testing = True\n",
    "\n",
    "history = {\n",
    "    'train_samples': [],\n",
    "    'train_acc': [],\n",
    "    'valid_acc': [],\n",
    "    'test_acc': [],\n",
    "    'loss': []\n",
    "}\n",
    "\n",
    "\n",
    "for b in BACKBONES:\n",
    "\n",
    "    import torch.optim as optim\n",
    "\n",
    "    m = Model(backbone=b)\n",
    "    m = m.to(device)\n",
    "\n",
    "    criterion = torch.nn.BCELoss()\n",
    "    optimizer = optim.Adam(m.parameters(), lr=1e-4, weight_decay=1e-3)\n",
    "\n",
    "    for epoch in range(1): # epochs\n",
    "\n",
    "        running_loss = []\n",
    "        running_acc = []\n",
    "\n",
    "        # epoch training\n",
    "        for i, data in enumerate(train):\n",
    "\n",
    "            # get the inputs; data is a list of [inputs, labels]\n",
    "            inputs = data[0].to(device)\n",
    "            labels = data[1].to(device)\n",
    "\n",
    "            # zero the parameter gradients\n",
    "            optimizer.zero_grad()\n",
    "\n",
    "            # forward + backward + optimize\n",
    "            outputs = m(inputs)\n",
    "            loss = criterion(outputs[:,0], labels.type_as(outputs[:,0]))\n",
    "            loss.backward()\n",
    "            optimizer.step()\n",
    "\n",
    "            acc = accuracy(outputs, labels)\n",
    "            # print statistics\n",
    "\n",
    "            running_loss.append(loss.item())\n",
    "            running_acc.append(acc)\n",
    "\n",
    "\n",
    "            if i%20 == 19:\n",
    "                print(f'epoch: {epoch+1}, batch: {i}, \\\n",
    "                loss: {np.mean(running_loss)}, training accuracy: {np.mean(running_acc)}')\n",
    "\n",
    "                history['loss'].append(np.mean(running_loss))\n",
    "                history['train_samples'].append(epoch*len(train)+i)\n",
    "                history['train_acc'].append(np.mean(running_acc))\n",
    "\n",
    "        #########################################\n",
    "        # on epoch end:\n",
    "        if is_validating:\n",
    "            valid_acc = []\n",
    "            # epoch validation\n",
    "            for i, data in enumerate(valid):\n",
    "                # get the inputs; data is a list of [inputs, labels]\n",
    "                inputs = data[0].to(device)\n",
    "                labels = data[1].to(device)\n",
    "\n",
    "                # could pehaps do:\n",
    "                # for param in m.parameters():\n",
    "                #     param.requires_grad = False\n",
    "\n",
    "                outputs = m(inputs)\n",
    "                valid_acc.append(accuracy(outputs, labels))\n",
    "            va = round(np.mean(valid_acc), 4)\n",
    "            print(f'validation accuracy {va}')\n",
    "            history['valid_acc'].append(va)\n",
    "        else:\n",
    "            va='-1'\n",
    "\n",
    "        if is_testing:\n",
    "            test_acc = []\n",
    "            # epoch validation\n",
    "            for i, data in enumerate(test):\n",
    "                # get the inputs; data is a list of [inputs, labels]\n",
    "                inputs = data[0].to(device)\n",
    "                labels = data[1].to(device)\n",
    "\n",
    "                # could pehaps do:\n",
    "                # for param in m.parameters():\n",
    "                #     param.requires_grad = False\n",
    "\n",
    "                outputs = m(inputs)\n",
    "                test_acc.append(accuracy(outputs, labels))\n",
    "            tst = round(np.mean(test_acc), 4)\n",
    "            print(f'test_accuracy {tst}')\n",
    "            history['test_acc'].append(tst)\n",
    "        else:\n",
    "            tst = '-1'\n",
    "\n",
    "        fname =  f'weights/{b}-epoch-{epoch}-valid_acc={va}-test_acc={tst}.pt'\n",
    "        print(f'Saved {fname}')\n",
    "        torch.save(m, fname)\n",
    "\n",
    "\n",
    "    print(f'Finished Training: {b}')"
   ]
  },
  {
   "cell_type": "code",
   "execution_count": 3,
   "metadata": {},
   "outputs": [
    {
     "ename": "NameError",
     "evalue": "name 'histories' is not defined",
     "output_type": "error",
     "traceback": [
      "\u001b[0;31m---------------------------------------------------------------------------\u001b[0m",
      "\u001b[0;31mNameError\u001b[0m                                 Traceback (most recent call last)",
      "\u001b[0;32m<ipython-input-3-4445b4ff43a4>\u001b[0m in \u001b[0;36m<module>\u001b[0;34m\u001b[0m\n\u001b[1;32m      1\u001b[0m \u001b[0;32mimport\u001b[0m \u001b[0mmatplotlib\u001b[0m\u001b[0;34m.\u001b[0m\u001b[0mpyplot\u001b[0m \u001b[0;32mas\u001b[0m \u001b[0mplt\u001b[0m\u001b[0;34m\u001b[0m\u001b[0;34m\u001b[0m\u001b[0m\n\u001b[1;32m      2\u001b[0m \u001b[0;34m\u001b[0m\u001b[0m\n\u001b[0;32m----> 3\u001b[0;31m \u001b[0;32mfor\u001b[0m \u001b[0mhistory\u001b[0m \u001b[0;32min\u001b[0m \u001b[0mhistories\u001b[0m\u001b[0;34m:\u001b[0m\u001b[0;34m\u001b[0m\u001b[0;34m\u001b[0m\u001b[0m\n\u001b[0m\u001b[1;32m      4\u001b[0m     \u001b[0mplt\u001b[0m\u001b[0;34m.\u001b[0m\u001b[0mfigure\u001b[0m\u001b[0;34m(\u001b[0m\u001b[0;34m)\u001b[0m\u001b[0;34m\u001b[0m\u001b[0;34m\u001b[0m\u001b[0m\n\u001b[1;32m      5\u001b[0m     \u001b[0mplt\u001b[0m\u001b[0;34m.\u001b[0m\u001b[0mplot\u001b[0m\u001b[0;34m(\u001b[0m\u001b[0mhistory\u001b[0m\u001b[0;34m[\u001b[0m\u001b[0;34m'train_samples'\u001b[0m\u001b[0;34m]\u001b[0m\u001b[0;34m,\u001b[0m \u001b[0mhistory\u001b[0m\u001b[0;34m[\u001b[0m\u001b[0;34m'train_acc'\u001b[0m\u001b[0;34m]\u001b[0m\u001b[0;34m)\u001b[0m\u001b[0;34m\u001b[0m\u001b[0;34m\u001b[0m\u001b[0m\n",
      "\u001b[0;31mNameError\u001b[0m: name 'histories' is not defined"
     ]
    }
   ],
   "source": [
    "import matplotlib.pyplot as plt\n",
    "\n",
    "for history in histories:\n",
    "    plt.figure()\n",
    "    plt.plot(history['train_samples'], history['train_acc'])\n",
    "    plt.plot(history['train_samples'], history['loss'])\n",
    "    plt.scatter([len(train)], history['valid_acc'])\n",
    "    plt.scatter([len(train)], history['test_acc'])"
   ]
  },
  {
   "cell_type": "code",
   "execution_count": null,
   "metadata": {},
   "outputs": [],
   "source": [
    "for k,v in histories.items():\n",
    "    print(v['train_acc'])"
   ]
  },
  {
   "cell_type": "code",
   "execution_count": null,
   "metadata": {},
   "outputs": [],
   "source": []
  },
  {
   "cell_type": "code",
   "execution_count": null,
   "metadata": {},
   "outputs": [],
   "source": [
    "history.keys()\n",
    "\n"
   ]
  }
 ],
 "metadata": {
  "accelerator": "GPU",
  "colab": {
   "collapsed_sections": [],
   "include_colab_link": true,
   "name": "train-pytorch",
   "provenance": []
  },
  "kernelspec": {
   "display_name": "anaconda fire-detect",
   "language": "python",
   "name": "myenv"
  },
  "language_info": {
   "codemirror_mode": {
    "name": "ipython",
    "version": 3
   },
   "file_extension": ".py",
   "mimetype": "text/x-python",
   "name": "python",
   "nbconvert_exporter": "python",
   "pygments_lexer": "ipython3",
   "version": "3.7.6"
  }
 },
 "nbformat": 4,
 "nbformat_minor": 1
}
