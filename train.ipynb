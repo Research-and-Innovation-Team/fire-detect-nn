{
  "nbformat": 4,
  "nbformat_minor": 0,
  "metadata": {
    "colab": {
      "name": "train-pytorch",
      "provenance": [],
      "collapsed_sections": [],
      "include_colab_link": true
    },
    "kernelspec": {
      "name": "python3",
      "display_name": "Python 3"
    },
    "accelerator": "GPU"
  },
  "cells": [
    {
      "cell_type": "markdown",
      "metadata": {
        "id": "view-in-github",
        "colab_type": "text"
      },
      "source": [
        "<a href=\"https://colab.research.google.com/github/tomek-l/fire-detect-nn/blob/master/train.ipynb\" target=\"_parent\"><img src=\"https://colab.research.google.com/assets/colab-badge.svg\" alt=\"Open In Colab\"/></a>"
      ]
    },
    {
      "cell_type": "code",
      "metadata": {
        "id": "SQdexNZG35S3",
        "colab_type": "code",
        "outputId": "830d537b-26d6-4cbd-e709-211adf3adcf7",
        "colab": {
          "base_uri": "https://localhost:8080/",
          "height": 208
        }
      },
      "source": [
        "!wget https://raw.githubusercontent.com/tomek-l/fire/master/model.py"
      ],
      "execution_count": 1,
      "outputs": [
        {
          "output_type": "stream",
          "text": [
            "--2020-01-24 22:48:38--  https://raw.githubusercontent.com/tomek-l/fire/master/model.py\n",
            "Resolving raw.githubusercontent.com (raw.githubusercontent.com)... 151.101.0.133, 151.101.64.133, 151.101.128.133, ...\n",
            "Connecting to raw.githubusercontent.com (raw.githubusercontent.com)|151.101.0.133|:443... connected.\n",
            "HTTP request sent, awaiting response... 200 OK\n",
            "Length: 2377 (2.3K) [text/plain]\n",
            "Saving to: ‘model.py’\n",
            "\n",
            "\rmodel.py              0%[                    ]       0  --.-KB/s               \rmodel.py            100%[===================>]   2.32K  --.-KB/s    in 0s      \n",
            "\n",
            "2020-01-24 22:48:38 (63.8 MB/s) - ‘model.py’ saved [2377/2377]\n",
            "\n"
          ],
          "name": "stdout"
        }
      ]
    },
    {
      "cell_type": "code",
      "metadata": {
        "id": "_hYGCymn0wW7",
        "colab_type": "code",
        "colab": {}
      },
      "source": [
        "BACKBONES = ['resnet18','resnet34','resnet50','resnet101', 'densenet121', 'mobilenet']"
      ],
      "execution_count": 0,
      "outputs": []
    },
    {
      "cell_type": "code",
      "metadata": {
        "id": "S9BazVz2tBTl",
        "colab_type": "code",
        "colab": {}
      },
      "source": [
        "from model import Model, load_dataset, accuracy"
      ],
      "execution_count": 0,
      "outputs": []
    },
    {
      "cell_type": "code",
      "metadata": {
        "id": "Eax2OOos8Hiz",
        "colab_type": "code",
        "colab": {}
      },
      "source": [
        "from google.colab import drive\n",
        "drive.mount('/gdrive')\n",
        "!ls '/gdrive/My Drive/cmpe_lab276/FireVideo/binary_dataset/'"
      ],
      "execution_count": 0,
      "outputs": []
    },
    {
      "cell_type": "code",
      "metadata": {
        "id": "H0o0mWpwvJ1E",
        "colab_type": "code",
        "colab": {}
      },
      "source": [
        "!cp '/gdrive/My Drive/cmpe_lab276/FireVideo/binary_dataset/' . -r"
      ],
      "execution_count": 0,
      "outputs": []
    },
    {
      "cell_type": "code",
      "metadata": {
        "id": "QRQzutKtA9mR",
        "colab_type": "code",
        "colab": {}
      },
      "source": [
        "trainloader = load_dataset('./binary_dataset/train')\n",
        "train_batch_list = list(trainloader)"
      ],
      "execution_count": 0,
      "outputs": []
    },
    {
      "cell_type": "code",
      "metadata": {
        "id": "VGGTxuDatspP",
        "colab_type": "code",
        "colab": {}
      },
      "source": [
        "validloader = load_dataset('./binary_dataset/validation', batch_size=16)\n",
        "valid_batch_list = list(validloader)\n",
        "len(valid_batch_list)"
      ],
      "execution_count": 0,
      "outputs": []
    },
    {
      "cell_type": "code",
      "metadata": {
        "id": "t9Fx55wryViG",
        "colab_type": "code",
        "colab": {}
      },
      "source": [
        "def average(x):\n",
        "    return sum(x)/len(x)"
      ],
      "execution_count": 0,
      "outputs": []
    },
    {
      "cell_type": "code",
      "metadata": {
        "id": "lwJwVugdDpEj",
        "colab_type": "code",
        "colab": {}
      },
      "source": [
        "import torch\n",
        "device = torch.device(\"cuda:0\")\n",
        "for b in BACKBONES:\n",
        "\n",
        "    import torch.optim as optim\n",
        "\n",
        "    m = Model(backbone=b)\n",
        "    m = m.to(device)\n",
        "\n",
        "    criterion = torch.nn.BCELoss()\n",
        "    optimizer = optim.Adam(m.parameters(), lr=1e-5, weight_decay=1e-5)\n",
        "\n",
        "    for epoch in range(6):  # epochs\n",
        "\n",
        "        running_loss = []\n",
        "        running_acc = []\n",
        "\n",
        "        # epoch training\n",
        "        for i, data in enumerate(train_batch_list):\n",
        "            # get the inputs; data is a list of [inputs, labels]\n",
        "            inputs = data[0].to(device)\n",
        "            labels = data[1].to(device)\n",
        "\n",
        "            # zero the parameter gradients\n",
        "            optimizer.zero_grad()\n",
        "\n",
        "            # forward + backward + optimize\n",
        "            outputs = m(inputs)\n",
        "            loss = criterion(outputs[:,0], labels.type_as(outputs[:,0]))\n",
        "            loss.backward()\n",
        "            optimizer.step()\n",
        "\n",
        "            acc = accuracy(outputs, labels)\n",
        "            # print statistics\n",
        "            \n",
        "            running_loss.append(loss.item())\n",
        "            running_acc.append(acc)\n",
        "\n",
        "            if i%20 == 19: print(f'epoch: {epoch+1}, batch: {i}, loss: {average(running_loss)}, accuracy: {average(running_acc)}')\n",
        "        \n",
        "        valid_acc = []\n",
        "        # epoch validation\n",
        "        for i, data in enumerate(valid_batch_list):\n",
        "            # get the inputs; data is a list of [inputs, labels]\n",
        "            inputs = data[0].to(device)\n",
        "            labels = data[1].to(device)\n",
        "\n",
        "            # could pehaps do:\n",
        "            # for param in m.parameters():\n",
        "            #     param.requires_grad = False\n",
        "\n",
        "            outputs = m(inputs)\n",
        "            valid_acc.append(accuracy(outputs, labels))\n",
        "        va = round(average(valid_acc), 4)\n",
        "        print(f'validation accuracy {va}')\n",
        "        \n",
        "        fname =  f'{b}-epoch-{epoch}-acc={va}.pt'\n",
        "        print(f'Saved {fname}')\n",
        "        torch.save(m, fname)\n",
        "        \n",
        "\n",
        "    print(f'Finished Training: {b}')"
      ],
      "execution_count": 0,
      "outputs": []
    }
  ]
}