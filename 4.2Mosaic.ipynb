{
 "cells": [
  {
   "cell_type": "code",
   "execution_count": 1,
   "metadata": {},
   "outputs": [],
   "source": [
    "import PIL \n",
    "from PIL import Image"
   ]
  },
  {
   "cell_type": "code",
   "execution_count": 2,
   "metadata": {},
   "outputs": [],
   "source": [
    "import os\n",
    "DIR = '/home/tomek/Desktop/fire/binary_dataset/train/positives/'\n",
    "ls = os.listdir(DIR)"
   ]
  },
  {
   "cell_type": "code",
   "execution_count": 9,
   "metadata": {},
   "outputs": [],
   "source": [
    "MASTER_SIZE_X = 1920*3\n",
    "MASTER_SIZE_Y = 1080*3\n",
    "TILES_N = 10\n",
    "TILE_SIZE_X = int(MASTER_SIZE_X/TILES_N)\n",
    "TILE_SIZE_Y = int(MASTER_SIZE_Y/TILES_N)"
   ]
  },
  {
   "cell_type": "code",
   "execution_count": 10,
   "metadata": {},
   "outputs": [
    {
     "name": "stdout",
     "output_type": "stream",
     "text": [
      "image: 0\n",
      "image: 1\n",
      "image: 2\n",
      "image: 3\n",
      "image: 4\n",
      "image: 5\n",
      "image: 6\n",
      "image: 7\n",
      "image: 8\n",
      "image: 9\n",
      "image: 10\n",
      "image: 11\n",
      "image: 12\n",
      "image: 13\n",
      "image: 14\n",
      "image: 15\n",
      "image: 16\n",
      "image: 17\n",
      "image: 18\n",
      "image: 19\n",
      "image: 20\n",
      "image: 21\n",
      "image: 22\n",
      "image: 23\n",
      "image: 24\n",
      "image: 25\n",
      "image: 26\n",
      "image: 27\n",
      "image: 28\n",
      "image: 29\n",
      "image: 30\n",
      "image: 31\n",
      "image: 32\n",
      "image: 33\n",
      "image: 34\n",
      "image: 35\n",
      "image: 36\n",
      "image: 37\n",
      "image: 38\n",
      "image: 39\n",
      "image: 40\n",
      "image: 41\n",
      "image: 42\n",
      "image: 43\n",
      "image: 44\n",
      "image: 45\n",
      "image: 46\n",
      "image: 47\n",
      "image: 48\n",
      "image: 49\n",
      "image: 50\n",
      "image: 51\n",
      "image: 52\n",
      "image: 53\n",
      "image: 54\n",
      "image: 55\n",
      "image: 56\n",
      "image: 57\n",
      "image: 58\n",
      "image: 59\n",
      "image: 60\n",
      "image: 61\n",
      "image: 62\n",
      "image: 63\n",
      "image: 64\n",
      "image: 65\n",
      "image: 66\n",
      "image: 67\n",
      "image: 68\n",
      "image: 69\n",
      "image: 70\n",
      "image: 71\n",
      "image: 72\n",
      "image: 73\n",
      "image: 74\n",
      "image: 75\n",
      "image: 76\n",
      "image: 77\n",
      "image: 78\n",
      "image: 79\n",
      "image: 80\n",
      "image: 81\n",
      "image: 82\n",
      "image: 83\n",
      "image: 84\n",
      "image: 85\n",
      "image: 86\n",
      "image: 87\n",
      "image: 88\n",
      "image: 89\n",
      "image: 90\n",
      "image: 91\n",
      "image: 92\n",
      "image: 93\n",
      "image: 94\n",
      "image: 95\n",
      "image: 96\n",
      "image: 97\n",
      "image: 98\n",
      "image: 99\n"
     ]
    }
   ],
   "source": [
    "image = Image.new('RGB', (MASTER_SIZE_X, MASTER_SIZE_Y))\n",
    "idx = 0\n",
    "for x in range(0, MASTER_SIZE_X, TILE_SIZE_X):\n",
    "    for y in range(0, MASTER_SIZE_Y, TILE_SIZE_Y):\n",
    "        print(\"image:\", idx)\n",
    "        tile = Image.open(DIR+ls[idx])\n",
    "        tile_smol = tile.resize((TILE_SIZE_X,TILE_SIZE_Y))\n",
    "        image.paste(tile_smol, (x, y))\n",
    "        idx += 1"
   ]
  },
  {
   "cell_type": "code",
   "execution_count": 11,
   "metadata": {},
   "outputs": [],
   "source": [
    "name = str(MASTER_SIZE_X)+'X'+str(MASTER_SIZE_Y)+'tilesize'+str(TILE_SIZE_X)+'X'+str(TILE_SIZE_Y)\n",
    "\n",
    "image.save(name+'.jpg')\n",
    "\n"
   ]
  },
  {
   "cell_type": "code",
   "execution_count": null,
   "metadata": {},
   "outputs": [],
   "source": []
  }
 ],
 "metadata": {
  "kernelspec": {
   "display_name": "Python 3",
   "language": "python",
   "name": "python3"
  },
  "language_info": {
   "codemirror_mode": {
    "name": "ipython",
    "version": 3
   },
   "file_extension": ".py",
   "mimetype": "text/x-python",
   "name": "python",
   "nbconvert_exporter": "python",
   "pygments_lexer": "ipython3",
   "version": "3.6.8"
  }
 },
 "nbformat": 4,
 "nbformat_minor": 2
}
